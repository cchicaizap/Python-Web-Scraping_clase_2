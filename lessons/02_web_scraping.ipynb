{
 "cells": [
  {
   "cell_type": "markdown",
   "metadata": {},
   "source": [
    "# Extraer Informacion de la web con Beautiful Soup\n",
    "\n",
    "* * * \n",
    "\n",
    "#### GRUPO 4 - INTEGRANTES\n",
    "- CARLOS ALEXANDER CHICAIZA PUEDMAG\n",
    "- JESSICA VIVIANA LLUMIGUANO CHELA\n",
    "- EMILIO ISRAEL MAYORGA CAMPOVERDE\n",
    "- JUAN FRANCISCO VIZUETE VALLEJO\n",
    "\n",
    "* * * \n",
    "### Objetivos de Aprendizaje\n",
    "1. [Reflexión: ¿Extraer o No Extraer?](#when)\n",
    "2. [Extraer y Analizar HTML](#extract)\n",
    "3. [Extraer Información de la Asamblea General de Illinois](#scrape)\n"
   ]
  },
  {
   "cell_type": "markdown",
   "metadata": {},
   "source": [
    "<a id='when'></a>\n",
    "\n",
    "# ¿Extraer o no extraer?\n",
    "\n",
    "Cuando queremos acceder a datos de la web, primero debemos asegurarnos que el sitio web que nos interesa ofrezca una API web. Plataformas como Twitter, Reddit y el New York Times tienen APIs. Consulta el taller de D-Lab sobre Python Web APIs si quieres aprender cómo usar APIs.\n",
    "\n",
    "Sin embargo, a menudo no existe una API web. En estos casos, podemos recurrir al \"web scraping\", que consiste en extraer el HTML subyacente de una página web y obtener directamente la información que necesitamos. Hay varios paquetes en Python que podemos usar para hacer esto. Nos centraremos en dos: Requests y Beautiful Soup.\n",
    "\n",
    "Nuestro estudio de caso será extraer información sobre los senadores estatales de Illinois, así como la lista de proyectos de ley que cada senador ha patrocinado. Antes de comenzar, echa un vistazo a estos sitios web para ver cómo están estructurados.\n"
   ]
  },
  {
   "cell_type": "markdown",
   "metadata": {},
   "source": [
    "## Instalación\n",
    "\n",
    "Usaremos dos paquetes principales: [Requests](http://docs.python-requests.org/en/latest/user/quickstart/) and [Beautiful Soup](http://www.crummy.com/software/BeautifulSoup/bs4/doc/). Instala estos paquetes si aún no lo has hecho:\n"
   ]
  },
  {
   "cell_type": "code",
   "execution_count": 5,
   "metadata": {},
   "outputs": [
    {
     "name": "stdout",
     "output_type": "stream",
     "text": [
      "Requirement already satisfied: requests in /workspaces/Python-Web-Scraping_clase_2/.venv/lib/python3.12/site-packages (2.32.3)\n",
      "Requirement already satisfied: charset-normalizer<4,>=2 in /workspaces/Python-Web-Scraping_clase_2/.venv/lib/python3.12/site-packages (from requests) (3.4.1)\n",
      "Requirement already satisfied: idna<4,>=2.5 in /workspaces/Python-Web-Scraping_clase_2/.venv/lib/python3.12/site-packages (from requests) (3.10)\n",
      "Requirement already satisfied: urllib3<3,>=1.21.1 in /workspaces/Python-Web-Scraping_clase_2/.venv/lib/python3.12/site-packages (from requests) (2.3.0)\n",
      "Requirement already satisfied: certifi>=2017.4.17 in /workspaces/Python-Web-Scraping_clase_2/.venv/lib/python3.12/site-packages (from requests) (2025.1.31)\n",
      "Note: you may need to restart the kernel to use updated packages.\n"
     ]
    }
   ],
   "source": [
    "%pip install requests"
   ]
  },
  {
   "cell_type": "code",
   "execution_count": 6,
   "metadata": {},
   "outputs": [
    {
     "name": "stdout",
     "output_type": "stream",
     "text": [
      "Requirement already satisfied: beautifulsoup4 in /workspaces/Python-Web-Scraping_clase_2/.venv/lib/python3.12/site-packages (4.13.3)\n",
      "Requirement already satisfied: soupsieve>1.2 in /workspaces/Python-Web-Scraping_clase_2/.venv/lib/python3.12/site-packages (from beautifulsoup4) (2.6)\n",
      "Requirement already satisfied: typing-extensions>=4.0.0 in /workspaces/Python-Web-Scraping_clase_2/.venv/lib/python3.12/site-packages (from beautifulsoup4) (4.12.2)\n",
      "Note: you may need to restart the kernel to use updated packages.\n"
     ]
    }
   ],
   "source": [
    "%pip install beautifulsoup4"
   ]
  },
  {
   "cell_type": "markdown",
   "metadata": {},
   "source": [
    "También instalaremos el paquete `lxml`, que ayuda a soportar algunos de los análisis que realiza Beautiful Soup:"
   ]
  },
  {
   "cell_type": "code",
   "execution_count": 5,
   "metadata": {},
   "outputs": [
    {
     "name": "stdout",
     "output_type": "stream",
     "text": [
      "Requirement already satisfied: lxml in /workspaces/Python-Web-Scraping_clase_2/.venv/lib/python3.12/site-packages (5.3.1)\n",
      "Note: you may need to restart the kernel to use updated packages.\n"
     ]
    }
   ],
   "source": [
    "%pip install lxml"
   ]
  },
  {
   "cell_type": "code",
   "execution_count": null,
   "metadata": {
    "tags": []
   },
   "outputs": [],
   "source": [
    "# Importar las bibliotecas necesarias\n",
    "from bs4 import BeautifulSoup\n",
    "from datetime import datetime\n",
    "import requests\n",
    "import time"
   ]
  },
  {
   "cell_type": "markdown",
   "metadata": {},
   "source": [
    "<a id='extract'></a>\n",
    "\n",
    "# Extraer y Analizar HTML\n",
    "\n",
    "Para extraer y analizar HTML de manera exitosa, seguiremos los siguientes 4 pasos:\n",
    "1. Hacer una solicitud GET\n",
    "2. Analizar la página con Beautiful Soup\n",
    "3. Buscar elementos HTML\n",
    "4. Obtener atributos y texto de estos elementos"
   ]
  },
  {
   "cell_type": "markdown",
   "metadata": {},
   "source": [
    "## Paso 1: Hacer una solicitud GET para obtener el HTML de una página\n",
    "\n",
    "Podemos usar la librería Requests para:\n",
    "1. Hacer una solicitud GET a la página, y\n",
    "2. Leer el código HTML de la página web.\n",
    "\n",
    "El proceso de hacer una solicitud y obtener un resultado es similar al flujo de trabajo de una API web. Sin embargo, ahora estamos haciendo una solicitud directamente al sitio web y tendremos que analizar el HTML por nuestra cuenta. Esto es diferente de recibir datos organizados en un formato más sencillo como `JSON` o `XML`.\n"
   ]
  },
  {
   "cell_type": "code",
   "execution_count": null,
   "metadata": {
    "tags": []
   },
   "outputs": [
    {
     "name": "stdout",
     "output_type": "stream",
     "text": [
      "<html lang=\"en\"> \n",
      "<!-- Trigger/Open The Modal -->\n",
      "<div style=\"position: fixed; z-index: 999; top: 5; left: 600; background-color: navy; display: block\">\n",
      "<button id=\"myBtn\" style=\"color: white; background-color: navy; display: block\">Translate Website</button></div>\n",
      "<!-- The Modal -->\n",
      "<div id=\"myModal\" class=\"modal\" style=\"display: none\">\n",
      "  <!-- Modal content -->\n",
      "  <div class=\"modal-content\">\n",
      "      <div class=\"modal-header\"><h3>\n",
      "    <span class=\"close\">&times;</span></h3></div>    \n",
      "    <p>The Illinois General Assembly offers the Google Translate service for visitor convenience. In no way should it be considered accurate as to the translation of any content herein.</p>\n",
      "    <p>Visitors of the Illinois General Assembly website are encouraged to use other translation services available on the internet.</p>\n",
      "    <p>The English language version is always the official and authoritative version of this website.</p>\n",
      "    <p>NOTE: To return to the original English language version, se\n"
     ]
    }
   ],
   "source": [
    "# Realizar una solicitud GET\n",
    "req = requests.get('http://www.ilga.gov/senate/default.asp')\n",
    "# Leer el contenido de la respuesta del servidor\n",
    "src = req.text\n",
    "# Ver algunos resultados\n",
    "print(src[:1000])"
   ]
  },
  {
   "cell_type": "markdown",
   "metadata": {},
   "source": [
    "## Paso 2: Analizar la página con Beautiful Soup\n",
    "\n",
    "Ahora, usamos la función `BeautifulSoup` para analizar la respuesta y convertirla en un árbol HTML. Esto devuelve un objeto (llamado **objeto soup**) que contiene todo el HTML del documento original.\n",
    "\n",
    "Si encuentras un error relacionado con una librería de análisis, asegúrate de haber instalado el paquete `lxml` para proporcionar a Beautiful Soup las herramientas necesarias para analizar el HTML."
   ]
  },
  {
   "cell_type": "code",
   "execution_count": null,
   "metadata": {},
   "outputs": [
    {
     "name": "stdout",
     "output_type": "stream",
     "text": [
      "<html lang=\"en\">\n",
      " <!-- Trigger/Open The Modal -->\n",
      " <body>\n",
      "  <div style=\"position: fixed; z-index: 999; top: 5; left: 600; background-color: navy; display: block\">\n",
      "   <button id=\"myBtn\" style=\"color: white; background-color: navy; display: block\">\n",
      "    Translate Website\n",
      "   </button>\n",
      "  </div>\n",
      "  <!-- The Modal -->\n",
      "  <div class=\"modal\" id=\"myModal\" style=\"display: none\">\n",
      "   <!-- Modal content -->\n",
      "   <div class=\"modal-content\">\n",
      "    <div class=\"modal-header\">\n",
      "     <h3>\n",
      "      <span class=\"close\">\n",
      "       ×\n",
      "      </span>\n",
      "     </h3>\n",
      "    </div>\n",
      "    <p>\n",
      "     The Illinois General Assembly offers the Google Translate service for visitor convenience. In no way should it be considered accurate as to the translation of any content herein.\n",
      "    </p>\n",
      "    <p>\n",
      "     Visitors of the Illinois General Assembly website are encouraged to use other translation services available on the internet.\n",
      "    </p>\n",
      "    <p>\n",
      "     The English language version is always the official and authoritative version of this website.\n",
      "   \n"
     ]
    }
   ],
   "source": [
    "# Analizar la respuesta en un árbol HTML\n",
    "soup = BeautifulSoup(src, 'lxml')\n",
    "# Echar un vistazo\n",
    "print(soup.prettify()[:1000])"
   ]
  },
  {
   "cell_type": "markdown",
   "metadata": {},
   "source": [
    "La salida se ve bastante similar a la anterior, pero ahora está organizada en un objeto `soup`, lo que nos permite recorrer la página más fácilmente."
   ]
  },
  {
   "cell_type": "markdown",
   "metadata": {},
   "source": [
    "## Paso 3: Buscar elementos HTML\n",
    "\n",
    "Beautiful Soup tiene varias funciones para encontrar componentes útiles en una página. Con Beautiful Soup puedes buscar elementos por:\n",
    "1. Etiquetas HTML\n",
    "2. Atributos HTML\n",
    "3. Selectores CSS\n",
    "\n",
    "Comencemos buscando **etiquetas HTML**.\n",
    "La función `find_all` busca en el árbol soup todos los elementos que tienen una etiqueta HTML particular y devuelve todos esos elementos.\n",
    "\n",
    "¿Que hace el siguiente ejemplo?\n"
   ]
  },
  {
   "cell_type": "code",
   "execution_count": null,
   "metadata": {},
   "outputs": [
    {
     "name": "stdout",
     "output_type": "stream",
     "text": [
      "[<a class=\"goog-logo-link\" href=\"https://translate.google.com\" target=\"_blank\"><img alt=\"Google Translate\" height=\"14\" src=\"https://www.gstatic.com/images/branding/googlelogo/1x/googlelogo_color_42x16dp.png\" style=\"padding-right: 3px;\" width=\"37\"/>Translate</a>, <a href=\"/default.asp\"><img alt=\"Illinois General Assembly\" border=\"0\" height=\"49\" src=\"/images/logo_sm.gif\" width=\"462\"/></a>, <a class=\"mainmenu\" href=\"/\">Home</a>, <a class=\"mainmenu\" href=\"/legislation/\" onblur=\"HM_f_PopDown('elMenu1')\" onfocus=\"HM_f_PopUp('elMenu1',event)\" onmouseout=\"HM_f_PopDown('elMenu1')\" onmouseover=\"HM_f_PopUp('elMenu1',event)\">Legislation &amp; Laws</a>, <a class=\"mainmenu\" href=\"/senate/\" onblur=\"HM_f_PopDown('elMenu3')\" onfocus=\"HM_f_PopUp('elMenu3',event)\" onmouseout=\"HM_f_PopDown('elMenu3')\" onmouseover=\"HM_f_PopUp('elMenu3',event)\">Senate</a>, <a class=\"mainmenu\" href=\"/house/\" onblur=\"HM_f_PopDown('elMenu2')\" onfocus=\"HM_f_PopUp('elMenu2',event)\" onmouseout=\"HM_f_PopDown('elMenu2')\" onmouseover=\"HM_f_PopUp('elMenu2',event)\">House</a>, <a class=\"mainmenu\" href=\"/mylegislation/\" onblur=\"HM_f_PopDown('elMenu4')\" onfocus=\"HM_f_PopUp('elMenu4',event)\" onmouseout=\"HM_f_PopDown('elMenu4')\" onmouseover=\"HM_f_PopUp('elMenu4',event)\">My Legislation</a>, <a class=\"mainmenu\" href=\"/sitemap.asp\">Site Map</a>, <a class=\"sidemenu\" href=\"/senate/default.asp\">  Members  </a>, <a class=\"sidemenu\" href=\"/senate/committees/default.asp\">  Committees  </a>]\n"
     ]
    }
   ],
   "source": [
    "# Encontrar todos los elementos con una etiqueta determinada\n",
    "a_tags = soup.find_all(\"a\")\n",
    "print(a_tags[:10])"
   ]
  },
  {
   "cell_type": "markdown",
   "metadata": {},
   "source": [
    "Debido a que `find_all()` es el método más popular en la API de búsqueda de Beautiful Soup, puedes usar un acceso directo para llamarlo. Si tratas el objeto BeautifulSoup como si fuera una función, es lo mismo que llamar a `find_all()` en ese objeto.\n",
    "\n",
    "Estas dos líneas de código son equivalentes:"
   ]
  },
  {
   "cell_type": "code",
   "execution_count": 12,
   "metadata": {
    "tags": []
   },
   "outputs": [
    {
     "name": "stdout",
     "output_type": "stream",
     "text": [
      "<a class=\"goog-logo-link\" href=\"https://translate.google.com\" target=\"_blank\"><img alt=\"Google Translate\" height=\"14\" src=\"https://www.gstatic.com/images/branding/googlelogo/1x/googlelogo_color_42x16dp.png\" style=\"padding-right: 3px;\" width=\"37\"/>Translate</a>\n",
      "<a class=\"goog-logo-link\" href=\"https://translate.google.com\" target=\"_blank\"><img alt=\"Google Translate\" height=\"14\" src=\"https://www.gstatic.com/images/branding/googlelogo/1x/googlelogo_color_42x16dp.png\" style=\"padding-right: 3px;\" width=\"37\"/>Translate</a>\n"
     ]
    }
   ],
   "source": [
    "a_tags = soup.find_all(\"a\")\n",
    "a_tags_alt = soup(\"a\")\n",
    "print(a_tags[0])\n",
    "print(a_tags_alt[0])"
   ]
  },
  {
   "cell_type": "markdown",
   "metadata": {},
   "source": [
    "¿Cuántos enlaces obtuvimos?"
   ]
  },
  {
   "cell_type": "code",
   "execution_count": 13,
   "metadata": {},
   "outputs": [
    {
     "name": "stdout",
     "output_type": "stream",
     "text": [
      "213\n"
     ]
    }
   ],
   "source": [
    "print(len(a_tags))"
   ]
  },
  {
   "cell_type": "markdown",
   "metadata": {},
   "source": [
    "¡Eso es demasiado! Muchos elementos en una página tendrán la misma etiqueta HTML. Por ejemplo, si buscas todos los elementos con la etiqueta `a`, es probable que obtengas más resultados, muchos de los cuales tal vez no quieras. Recuerda, la etiqueta `a` define un hipervínculo, por lo que generalmente encontrarás muchos en cualquier página.\n",
    "\n",
    "¿Qué pasa si queremos buscar etiquetas HTML con atributos específicos, como clases CSS particulares?\n",
    "\n",
    "Podemos hacer esto agregando un argumento adicional a `find_all`. En el siguiente ejemplo, estamos buscando todas las etiquetas `a` y luego filtrando aquellas con `class_=\"sidemenu\"`."
   ]
  },
  {
   "cell_type": "code",
   "execution_count": null,
   "metadata": {
    "tags": []
   },
   "outputs": [
    {
     "data": {
      "text/plain": [
       "[<a class=\"sidemenu\" href=\"/senate/default.asp\">  Members  </a>,\n",
       " <a class=\"sidemenu\" href=\"/senate/committees/default.asp\">  Committees  </a>,\n",
       " <a class=\"sidemenu\" href=\"/senate/schedules/default.asp\">  Schedules  </a>,\n",
       " <a class=\"sidemenu\" href=\"/senate/journals/default.asp\">  Journals  </a>,\n",
       " <a class=\"sidemenu\" href=\"/senate/transcripts/default.asp\">  Transcripts  </a>]"
      ]
     },
     "execution_count": 14,
     "metadata": {},
     "output_type": "execute_result"
    }
   ],
   "source": [
    "# Obtener solo las etiquetas 'a' en la clase 'sidemenu'\n",
    "side_menus = soup(\"a\", class_=\"sidemenu\")\n",
    "side_menus[:5]"
   ]
  },
  {
   "cell_type": "markdown",
   "metadata": {},
   "source": [
    "Una forma más eficiente de buscar elementos en un sitio web es mediante un **selector CSS**. Para esto, usamos un método diferente llamado `.select()`. Solo tienes que pasar una cadena de texto al `.select()` para obtener todos los elementos que coincidan con esa cadena como un selector CSS válido.\n",
    "\n",
    "En el ejemplo anterior, podemos usar `\"a.sidemenu\"` como un selector CSS, lo que devuelve todas las etiquetas a con la clase `\"a.sidemenu\"` .\n"
   ]
  },
  {
   "cell_type": "code",
   "execution_count": null,
   "metadata": {
    "tags": []
   },
   "outputs": [
    {
     "data": {
      "text/plain": [
       "[<a class=\"sidemenu\" href=\"/senate/default.asp\">  Members  </a>,\n",
       " <a class=\"sidemenu\" href=\"/senate/committees/default.asp\">  Committees  </a>,\n",
       " <a class=\"sidemenu\" href=\"/senate/schedules/default.asp\">  Schedules  </a>,\n",
       " <a class=\"sidemenu\" href=\"/senate/journals/default.asp\">  Journals  </a>,\n",
       " <a class=\"sidemenu\" href=\"/senate/transcripts/default.asp\">  Transcripts  </a>]"
      ]
     },
     "execution_count": 15,
     "metadata": {},
     "output_type": "execute_result"
    }
   ],
   "source": [
    "# Obtener elementos con el selector CSS \"a.sidemenu\"\n",
    "selected = soup.select(\"a.sidemenu\")\n",
    "selected[:5]"
   ]
  },
  {
   "cell_type": "markdown",
   "metadata": {},
   "source": [
    "## 🥊 Reto: Encontrar Todos\n",
    "\n",
    "Usa BeautifulSoup para encontrar todos los elementos `a` con la clase `mainmenu`.\n",
    "\n",
    "Aquí tenemos un ejemplo de cómo hacerlo:"
   ]
  },
  {
   "cell_type": "code",
   "execution_count": null,
   "metadata": {},
   "outputs": [
    {
     "data": {
      "text/plain": [
       "[<a class=\"mainmenu\" href=\"/\">Home</a>,\n",
       " <a class=\"mainmenu\" href=\"/legislation/\" onblur=\"HM_f_PopDown('elMenu1')\" onfocus=\"HM_f_PopUp('elMenu1',event)\" onmouseout=\"HM_f_PopDown('elMenu1')\" onmouseover=\"HM_f_PopUp('elMenu1',event)\">Legislation &amp; Laws</a>,\n",
       " <a class=\"mainmenu\" href=\"/senate/\" onblur=\"HM_f_PopDown('elMenu3')\" onfocus=\"HM_f_PopUp('elMenu3',event)\" onmouseout=\"HM_f_PopDown('elMenu3')\" onmouseover=\"HM_f_PopUp('elMenu3',event)\">Senate</a>,\n",
       " <a class=\"mainmenu\" href=\"/house/\" onblur=\"HM_f_PopDown('elMenu2')\" onfocus=\"HM_f_PopUp('elMenu2',event)\" onmouseout=\"HM_f_PopDown('elMenu2')\" onmouseover=\"HM_f_PopUp('elMenu2',event)\">House</a>,\n",
       " <a class=\"mainmenu\" href=\"/mylegislation/\" onblur=\"HM_f_PopDown('elMenu4')\" onfocus=\"HM_f_PopUp('elMenu4',event)\" onmouseout=\"HM_f_PopDown('elMenu4')\" onmouseover=\"HM_f_PopUp('elMenu4',event)\">My Legislation</a>]"
      ]
     },
     "execution_count": 16,
     "metadata": {},
     "output_type": "execute_result"
    }
   ],
   "source": [
    "# Aqui tenemos el codigo\n",
    "main_menus = soup.select(\"a.mainmenu\")\n",
    "main_menus[:5]\n"
   ]
  },
  {
   "cell_type": "markdown",
   "metadata": {},
   "source": [
    "## Paso 4: Obtener Atributos y Texto de los Elementos\n",
    "\n",
    "Una vez que identificamos los elementos, queremos acceder a la información dentro de ese elemento. Generalmente, esto significa dos cosas:\n",
    "1. Texto\n",
    "2. Atributos\n",
    "\n",
    "Obtener el texto dentro de un elemento es sencillo. Solo tenemos que usar el atributo `text` de un objeto `tag`. \n",
    "\n",
    "Aquí tienes un ejemplo:\n"
   ]
  },
  {
   "cell_type": "code",
   "execution_count": null,
   "metadata": {
    "tags": []
   },
   "outputs": [
    {
     "name": "stdout",
     "output_type": "stream",
     "text": [
      "<a class=\"sidemenu\" href=\"/senate/default.asp\">  Members  </a>\n",
      "Class:  <class 'bs4.element.Tag'>\n"
     ]
    }
   ],
   "source": [
    "# Obtener todos los enlaces con la clase 'sidemenu'\n",
    "side_menu_links = soup.select(\"a.sidemenu\")\n",
    "\n",
    "# Examinar el primer enlace\n",
    "first_link = side_menu_links[0]\n",
    "print(first_link)\n",
    "\n",
    "# ¿Qué clase tiene esta variable?\n",
    "print('Class: ', type(first_link))"
   ]
  },
  {
   "cell_type": "markdown",
   "metadata": {},
   "source": [
    "¡Es una etiqueta de Beautiful Soup! Esto significa que tiene un miembro de `text`:"
   ]
  },
  {
   "cell_type": "code",
   "execution_count": 18,
   "metadata": {
    "tags": []
   },
   "outputs": [
    {
     "name": "stdout",
     "output_type": "stream",
     "text": [
      "  Members  \n"
     ]
    }
   ],
   "source": [
    "print(first_link.text)"
   ]
  },
  {
   "cell_type": "markdown",
   "metadata": {},
   "source": [
    "A veces queremos el valor de ciertos atributos. Esto es particularmente relevante para las etiquetas `a`, o enlaces, donde el atributo `href` nos dice a dónde lleva el enlace.\n",
    "\n",
    "💡 **Consejo**: Puedes acceder a los atributos de una etiqueta tratándola como un diccionario."
   ]
  },
  {
   "cell_type": "code",
   "execution_count": 19,
   "metadata": {
    "tags": []
   },
   "outputs": [
    {
     "name": "stdout",
     "output_type": "stream",
     "text": [
      "/senate/default.asp\n"
     ]
    }
   ],
   "source": [
    "print(first_link['href'])"
   ]
  },
  {
   "cell_type": "markdown",
   "metadata": {},
   "source": [
    "## 🥊 Reto: Extraer atributos específicos\n",
    "Para extraer todos los atributos `href` de las URLs de los enlaces con la clase `mainmenu`, podemos usar el siguiente código:"
   ]
  },
  {
   "cell_type": "code",
   "execution_count": null,
   "metadata": {},
   "outputs": [
    {
     "name": "stdout",
     "output_type": "stream",
     "text": [
      "/\n",
      "/legislation/\n",
      "/senate/\n",
      "/house/\n",
      "/mylegislation/\n",
      "/sitemap.asp\n",
      "/\n",
      "/legislation/\n"
     ]
    }
   ],
   "source": [
    "# AQUI TENEMOS EL CODIGO\n",
    "for link in main_menus:\n",
    "    print(link['href'])\n",
    "\n",
    "for i in range(2):\n",
    "    print(main_menus[i]['href'])"
   ]
  },
  {
   "cell_type": "markdown",
   "metadata": {},
   "source": [
    "<a id='scrape'></a>\n",
    "\n",
    "# Extraer Información de la Asamblea General de Illinois\n",
    "\n",
    "Creas o no, esas son realmente las herramientas fundamentales que necesitas para extraer informacion de un sitio web. Una vez que pases más tiempo familiarizándote con HTML y CSS, entonces simplemente es cuestión de entender la estructura de un sitio web en particular y aplicar inteligentemente las herramientas de Beautiful Soup y Python.\n",
    "\n",
    "Vamos a aplicar estas habilidades para extaer la [98ª Asamblea General de Illinois](http://www.ilga.gov/senate/default.asp?GA=98).\n",
    "\n",
    "Específicamente, nuestro objetivo es extraer información sobre cada senador, incluyendo su nombre, distrito y partido."
   ]
  },
  {
   "cell_type": "markdown",
   "metadata": {},
   "source": [
    "## Extraer y Analizar la Página Web\n",
    "\n",
    "Vamos a extraer y analizar la página web, utilizando las herramientas que aprendimos en la sección anterior."
   ]
  },
  {
   "cell_type": "code",
   "execution_count": null,
   "metadata": {
    "tags": []
   },
   "outputs": [],
   "source": [
    "# Realizar una solicitud GET\n",
    "req = requests.get('http://www.ilga.gov/senate/default.asp?GA=98')\n",
    "# Leer el contenido de la respuesta del servidor\n",
    "src = req.text\n",
    "# Procesar con Beautiful Soup\n",
    "soup = BeautifulSoup(src, \"lxml\")"
   ]
  },
  {
   "cell_type": "markdown",
   "metadata": {},
   "source": [
    "## Buscar los elementos de la tabla\n",
    "\n",
    "Nuestro objetivo es obtener los elementos de la tabla en la página web. Recuerda: las filas se identifican con la etiqueta `tr`. Vamos a usar `find_all` para obtener estos elementos."
   ]
  },
  {
   "cell_type": "code",
   "execution_count": null,
   "metadata": {},
   "outputs": [
    {
     "data": {
      "text/plain": [
       "73"
      ]
     },
     "execution_count": 22,
     "metadata": {},
     "output_type": "execute_result"
    }
   ],
   "source": [
    "# Obtener todos los elementos de las filas de la tabla\n",
    "rows = soup.find_all(\"tr\")\n",
    "len(rows)"
   ]
  },
  {
   "cell_type": "markdown",
   "metadata": {},
   "source": [
    "⚠️ **Advertencia**: Ten en cuenta: `find_all` obtiene *todos* los elementos con la etiqueta `tr`. Nosotros solo queremos algunos de ellos. \n",
    "\n",
    "Si usamos la función \"Inspeccionar\" en Google Chrome y miramos cuidadosamente, podemos usar algunos selectores CSS para obtener solo las filas que nos interesan. Específicamente, queremos las filas internas de la tabla:"
   ]
  },
  {
   "cell_type": "code",
   "execution_count": null,
   "metadata": {},
   "outputs": [
    {
     "name": "stdout",
     "output_type": "stream",
     "text": [
      "<tr><td colspan=\"5\">\n",
      "<span class=\"heading\">Illinois State Senators</span>\n",
      "<span class=\"italics\">  98th  General Assembly</span><br/>\n",
      "<!-- 3/2/09 temp comment out until fixed for GA specific-->\n",
      "<!-- add 97th ga currently no info -->\n",
      "<a href=\"98GA_Senate_Leadership.pdf\">Leadership</a> <a href=\"98th_Senate_Officers.pdf\">Officers</a> <a href=\"98GA_Senate_Seating_Chart.pdf\">Senate Seating Chart</a>  <span class=\"content\"><b>Democrats:</b> 40   <b>Republicans:</b> 19</span><br/>\n",
      "</td></tr> \n",
      "\n",
      "<tr>\n",
      "<td class=\"header\" width=\"45%\"><a class=\"filetab\" href=\"javascript:Sort('LastName','',98);\" title=\"Sort by Senator\">Senator</a></td>\n",
      "<td align=\"center\" class=\"header\" width=\"15%\">Bills</td>\n",
      "<td align=\"center\" class=\"header\" width=\"10%\">Committees</td>\n",
      "<td align=\"center\" class=\"header\" width=\"15%\"><a class=\"filetab\" href=\"javascript:Sort('DistrictNumber','',98);\" title=\"Sort by District\">District</a></td>\n",
      "<td align=\"center\" class=\"header\" width=\"15%\"><a class=\"filetab\" href=\"javascript:Sort('Party','',98);\" title=\"Sort by Party\">Party</a></td>\n",
      "</tr> \n",
      "\n",
      "<tr><td bgcolor=\"white\" class=\"detail\" width=\"40%\"><a class=\"notranslate\" href=\"/senate/Senator.asp?GA=98&amp;MemberID=1911\">Pamela J. Althoff</a></td><td align=\"center\" bgcolor=\"white\" class=\"detail\" width=\"15%\"><a href=\"SenatorBills.asp?GA=98&amp;MemberID=1911\">Bills</a></td><td align=\"center\" bgcolor=\"white\" class=\"detail\" width=\"15%\"><a href=\"SenCommittees.asp?GA=98&amp;MemberID=1911\">Committees</a></td><td align=\"center\" bgcolor=\"white\" class=\"detail\" width=\"15%\">32</td><td align=\"center\" bgcolor=\"white\" class=\"detail\" width=\"15%\">R</td></tr> \n",
      "\n",
      "<tr><td bgcolor=\"EBEBEB\" class=\"detail\" width=\"40%\"><a class=\"notranslate\" href=\"/senate/Senator.asp?GA=98&amp;MemberID=2018\">Jason A. Barickman</a></td><td align=\"center\" bgcolor=\"EBEBEB\" class=\"detail\" width=\"15%\"><a href=\"SenatorBills.asp?GA=98&amp;MemberID=2018\">Bills</a></td><td align=\"center\" bgcolor=\"EBEBEB\" class=\"detail\" width=\"15%\"><a href=\"SenCommittees.asp?GA=98&amp;MemberID=2018\">Committees</a></td><td align=\"center\" bgcolor=\"EBEBEB\" class=\"detail\" width=\"15%\">53</td><td align=\"center\" bgcolor=\"EBEBEB\" class=\"detail\" width=\"15%\">R</td></tr> \n",
      "\n",
      "<tr><td bgcolor=\"white\" class=\"detail\" width=\"40%\"><a class=\"notranslate\" href=\"/senate/Senator.asp?GA=98&amp;MemberID=2272\">Scott M Bennett</a></td><td align=\"center\" bgcolor=\"white\" class=\"detail\" width=\"15%\"><a href=\"SenatorBills.asp?GA=98&amp;MemberID=2272\">Bills</a></td><td align=\"center\" bgcolor=\"white\" class=\"detail\" width=\"15%\"><a href=\"SenCommittees.asp?GA=98&amp;MemberID=2272\">Committees</a></td><td align=\"center\" bgcolor=\"white\" class=\"detail\" width=\"15%\">52</td><td align=\"center\" bgcolor=\"white\" class=\"detail\" width=\"15%\">D</td></tr> \n",
      "\n"
     ]
    }
   ],
   "source": [
    "# Devuelve todos los selectores CSS 'tr tr tr' en la página\n",
    "rows = soup.select('tr tr tr')\n",
    "\n",
    "for row in rows[:5]:\n",
    "    print(row, '\\n')"
   ]
  },
  {
   "cell_type": "markdown",
   "metadata": {},
   "source": [
    "Parece que queremos todo después de las primeras dos filas. Comencemos trabajando con una sola fila y construyamos nuestro bucle a partir de ahí."
   ]
  },
  {
   "cell_type": "code",
   "execution_count": 24,
   "metadata": {},
   "outputs": [
    {
     "name": "stdout",
     "output_type": "stream",
     "text": [
      "<tr>\n",
      " <td bgcolor=\"white\" class=\"detail\" width=\"40%\">\n",
      "  <a class=\"notranslate\" href=\"/senate/Senator.asp?GA=98&amp;MemberID=1911\">\n",
      "   Pamela J. Althoff\n",
      "  </a>\n",
      " </td>\n",
      " <td align=\"center\" bgcolor=\"white\" class=\"detail\" width=\"15%\">\n",
      "  <a href=\"SenatorBills.asp?GA=98&amp;MemberID=1911\">\n",
      "   Bills\n",
      "  </a>\n",
      " </td>\n",
      " <td align=\"center\" bgcolor=\"white\" class=\"detail\" width=\"15%\">\n",
      "  <a href=\"SenCommittees.asp?GA=98&amp;MemberID=1911\">\n",
      "   Committees\n",
      "  </a>\n",
      " </td>\n",
      " <td align=\"center\" bgcolor=\"white\" class=\"detail\" width=\"15%\">\n",
      "  32\n",
      " </td>\n",
      " <td align=\"center\" bgcolor=\"white\" class=\"detail\" width=\"15%\">\n",
      "  R\n",
      " </td>\n",
      "</tr>\n",
      "\n"
     ]
    }
   ],
   "source": [
    "example_row = rows[2]\n",
    "print(example_row.prettify())"
   ]
  },
  {
   "cell_type": "markdown",
   "metadata": {},
   "source": [
    "Desglosamos esta fila en sus celdas/columnas utilizando el método `select` con selectores CSS. Al observar cuidadosamente el HTML, hay un par de formas en las que podríamos hacerlo.\n",
    "\n",
    "* Podríamos identificar las celdas por su etiqueta `td`.\n",
    "* Podríamos usar el nombre de la clase `.detail`.\n",
    "* Podríamos combinar ambos y usar el selector `td.detail`."
   ]
  },
  {
   "cell_type": "code",
   "execution_count": 25,
   "metadata": {},
   "outputs": [
    {
     "name": "stdout",
     "output_type": "stream",
     "text": [
      "<td bgcolor=\"white\" class=\"detail\" width=\"40%\"><a class=\"notranslate\" href=\"/senate/Senator.asp?GA=98&amp;MemberID=1911\">Pamela J. Althoff</a></td>\n",
      "<td align=\"center\" bgcolor=\"white\" class=\"detail\" width=\"15%\"><a href=\"SenatorBills.asp?GA=98&amp;MemberID=1911\">Bills</a></td>\n",
      "<td align=\"center\" bgcolor=\"white\" class=\"detail\" width=\"15%\"><a href=\"SenCommittees.asp?GA=98&amp;MemberID=1911\">Committees</a></td>\n",
      "<td align=\"center\" bgcolor=\"white\" class=\"detail\" width=\"15%\">32</td>\n",
      "<td align=\"center\" bgcolor=\"white\" class=\"detail\" width=\"15%\">R</td>\n",
      "\n",
      "<td bgcolor=\"white\" class=\"detail\" width=\"40%\"><a class=\"notranslate\" href=\"/senate/Senator.asp?GA=98&amp;MemberID=1911\">Pamela J. Althoff</a></td>\n",
      "<td align=\"center\" bgcolor=\"white\" class=\"detail\" width=\"15%\"><a href=\"SenatorBills.asp?GA=98&amp;MemberID=1911\">Bills</a></td>\n",
      "<td align=\"center\" bgcolor=\"white\" class=\"detail\" width=\"15%\"><a href=\"SenCommittees.asp?GA=98&amp;MemberID=1911\">Committees</a></td>\n",
      "<td align=\"center\" bgcolor=\"white\" class=\"detail\" width=\"15%\">32</td>\n",
      "<td align=\"center\" bgcolor=\"white\" class=\"detail\" width=\"15%\">R</td>\n",
      "\n",
      "<td bgcolor=\"white\" class=\"detail\" width=\"40%\"><a class=\"notranslate\" href=\"/senate/Senator.asp?GA=98&amp;MemberID=1911\">Pamela J. Althoff</a></td>\n",
      "<td align=\"center\" bgcolor=\"white\" class=\"detail\" width=\"15%\"><a href=\"SenatorBills.asp?GA=98&amp;MemberID=1911\">Bills</a></td>\n",
      "<td align=\"center\" bgcolor=\"white\" class=\"detail\" width=\"15%\"><a href=\"SenCommittees.asp?GA=98&amp;MemberID=1911\">Committees</a></td>\n",
      "<td align=\"center\" bgcolor=\"white\" class=\"detail\" width=\"15%\">32</td>\n",
      "<td align=\"center\" bgcolor=\"white\" class=\"detail\" width=\"15%\">R</td>\n",
      "\n"
     ]
    }
   ],
   "source": [
    "for cell in example_row.select('td'):\n",
    "    print(cell)\n",
    "print()\n",
    "\n",
    "for cell in example_row.select('.detail'):\n",
    "    print(cell)\n",
    "print()\n",
    "\n",
    "for cell in example_row.select('td.detail'):\n",
    "    print(cell)\n",
    "print()"
   ]
  },
  {
   "cell_type": "markdown",
   "metadata": {},
   "source": [
    "Podemos confirmar que todos estos son iguales."
   ]
  },
  {
   "cell_type": "code",
   "execution_count": 26,
   "metadata": {
    "tags": []
   },
   "outputs": [],
   "source": [
    "assert example_row.select('td') == example_row.select('.detail') == example_row.select('td.detail')"
   ]
  },
  {
   "cell_type": "markdown",
   "metadata": {},
   "source": [
    "Usamos el selector `td.detail` para ser lo más específicos posibles."
   ]
  },
  {
   "cell_type": "code",
   "execution_count": null,
   "metadata": {},
   "outputs": [
    {
     "data": {
      "text/plain": [
       "[<td bgcolor=\"white\" class=\"detail\" width=\"40%\"><a class=\"notranslate\" href=\"/senate/Senator.asp?GA=98&amp;MemberID=1911\">Pamela J. Althoff</a></td>,\n",
       " <td align=\"center\" bgcolor=\"white\" class=\"detail\" width=\"15%\"><a href=\"SenatorBills.asp?GA=98&amp;MemberID=1911\">Bills</a></td>,\n",
       " <td align=\"center\" bgcolor=\"white\" class=\"detail\" width=\"15%\"><a href=\"SenCommittees.asp?GA=98&amp;MemberID=1911\">Committees</a></td>,\n",
       " <td align=\"center\" bgcolor=\"white\" class=\"detail\" width=\"15%\">32</td>,\n",
       " <td align=\"center\" bgcolor=\"white\" class=\"detail\" width=\"15%\">R</td>]"
      ]
     },
     "execution_count": 27,
     "metadata": {},
     "output_type": "execute_result"
    }
   ],
   "source": [
    "# Selecciona solo aquellas etiquetas 'td' con la clase 'detail'\n",
    "detail_cells = example_row.select('td.detail')\n",
    "detail_cells"
   ]
  },
  {
   "cell_type": "markdown",
   "metadata": {},
   "source": [
    "La mayoría de las veces, nos interesa el **texto** real de un sitio web, no sus etiquetas. Recuerda que para obtener el texto de un elemento HTML, usamos el miembro `text`:"
   ]
  },
  {
   "cell_type": "code",
   "execution_count": null,
   "metadata": {},
   "outputs": [
    {
     "name": "stdout",
     "output_type": "stream",
     "text": [
      "['Pamela J. Althoff', 'Bills', 'Committees', '32', 'R']\n"
     ]
    }
   ],
   "source": [
    "# Mantenemos solo el texto en cada una de esas celdas\n",
    "row_data = [cell.text for cell in detail_cells]\n",
    "\n",
    "print(row_data)"
   ]
  },
  {
   "cell_type": "markdown",
   "metadata": {},
   "source": [
    "¡Se ve bien! Ahora solo usamos nuestros conocimientos básicos de Python para obtener los elementos de esta lista que necesitamos. \n",
    "\n",
    "Recuerda, queremos el nombre del senador, su distrito y su partido."
   ]
  },
  {
   "cell_type": "code",
   "execution_count": 29,
   "metadata": {},
   "outputs": [
    {
     "name": "stdout",
     "output_type": "stream",
     "text": [
      "Pamela J. Althoff\n",
      "32\n",
      "R\n"
     ]
    }
   ],
   "source": [
    "print(row_data[0]) # Name\n",
    "print(row_data[3]) # District\n",
    "print(row_data[4]) # Party"
   ]
  },
  {
   "cell_type": "markdown",
   "metadata": {},
   "source": [
    "## Desaciéndonos de las filas basura\n",
    "\n",
    "Vimos que en el principio que no todas las files que se obtienen corresponden a un Senador. Vamos a necesitar hacer un poco de limpieza antes de seguir. Veamos algunos ejemplos:"
   ]
  },
  {
   "cell_type": "code",
   "execution_count": 30,
   "metadata": {},
   "outputs": [
    {
     "name": "stdout",
     "output_type": "stream",
     "text": [
      "Fila 0:\n",
      " <tr><td colspan=\"5\">\n",
      "<span class=\"heading\">Illinois State Senators</span>\n",
      "<span class=\"italics\">  98th  General Assembly</span><br/>\n",
      "<!-- 3/2/09 temp comment out until fixed for GA specific-->\n",
      "<!-- add 97th ga currently no info -->\n",
      "<a href=\"98GA_Senate_Leadership.pdf\">Leadership</a> <a href=\"98th_Senate_Officers.pdf\">Officers</a> <a href=\"98GA_Senate_Seating_Chart.pdf\">Senate Seating Chart</a>  <span class=\"content\"><b>Democrats:</b> 40   <b>Republicans:</b> 19</span><br/>\n",
      "</td></tr> \n",
      "\n",
      "Fila 1:\n",
      " <tr>\n",
      "<td class=\"header\" width=\"45%\"><a class=\"filetab\" href=\"javascript:Sort('LastName','',98);\" title=\"Sort by Senator\">Senator</a></td>\n",
      "<td align=\"center\" class=\"header\" width=\"15%\">Bills</td>\n",
      "<td align=\"center\" class=\"header\" width=\"10%\">Committees</td>\n",
      "<td align=\"center\" class=\"header\" width=\"15%\"><a class=\"filetab\" href=\"javascript:Sort('DistrictNumber','',98);\" title=\"Sort by District\">District</a></td>\n",
      "<td align=\"center\" class=\"header\" width=\"15%\"><a class=\"filetab\" href=\"javascript:Sort('Party','',98);\" title=\"Sort by Party\">Party</a></td>\n",
      "</tr> \n",
      "\n",
      "Última fila:\n",
      " <tr>\n",
      "<td align=\"left\" class=\"footer\" width=\"107\">  <img alt=\"Legislative Information System logo\" height=\"45\" src=\"/images/lislogo.jpg\" width=\"100\"/></td>\n",
      "<td align=\"\" class=\"footer\" valign=\"top\" width=\"100%\">This site is maintained for the Illinois General Assembly \n",
      "by the<br/>Legislative Information System, 705 Stratton Building, Springfield, Illinois 62706<br/>\n",
      "<a class=\"links\" href=\"mailto:webmaster@ilga.gov?subject=Email from ILGA Web\" style=\"font-size:8px\">\n",
      "      Contact ILGA Webmaster</a>\n",
      "</td>\n",
      "</tr>\n"
     ]
    }
   ],
   "source": [
    "print('Fila 0:\\n', rows[0], '\\n')\n",
    "print('Fila 1:\\n', rows[1], '\\n')\n",
    "print('Última fila:\\n', rows[-1])"
   ]
  },
  {
   "cell_type": "markdown",
   "metadata": {},
   "source": [
    "Cuando utilizamos el bucle \"for\", nosotros solo queremos aplicarlo en las filas más relevantes. Por lo que necesitamos filtrar las filas irrelevantes. La manera de hacer esto es comparando algunas de las filas que queremos, para ver que las hace diferentes, y luego utilizar esa información en un condicional.\n",
    "\n",
    "Como lo puedes imaginar, hay muchas maneras de hacer esto, y va a depender del sitio web. Vamos a mostrar algunas maneras aquí para darte una idea de como hacerlo."
   ]
  },
  {
   "cell_type": "code",
   "execution_count": null,
   "metadata": {},
   "outputs": [
    {
     "name": "stdout",
     "output_type": "stream",
     "text": [
      "1\n",
      "11\n",
      "5\n",
      "5\n"
     ]
    }
   ],
   "source": [
    "# Filas malas\n",
    "print(len(rows[0]))\n",
    "print(len(rows[1]))\n",
    "\n",
    "# Filas buenas\n",
    "print(len(rows[2]))\n",
    "print(len(rows[3]))"
   ]
  },
  {
   "cell_type": "markdown",
   "metadata": {},
   "source": [
    "Tal vez las filas buenas tienen una longitud de 5. Revisemos:"
   ]
  },
  {
   "cell_type": "code",
   "execution_count": null,
   "metadata": {},
   "outputs": [
    {
     "name": "stdout",
     "output_type": "stream",
     "text": [
      "<tr><td bgcolor=\"white\" class=\"detail\" width=\"40%\"><a class=\"notranslate\" href=\"/senate/Senator.asp?GA=98&amp;MemberID=1911\">Pamela J. Althoff</a></td><td align=\"center\" bgcolor=\"white\" class=\"detail\" width=\"15%\"><a href=\"SenatorBills.asp?GA=98&amp;MemberID=1911\">Bills</a></td><td align=\"center\" bgcolor=\"white\" class=\"detail\" width=\"15%\"><a href=\"SenCommittees.asp?GA=98&amp;MemberID=1911\">Committees</a></td><td align=\"center\" bgcolor=\"white\" class=\"detail\" width=\"15%\">32</td><td align=\"center\" bgcolor=\"white\" class=\"detail\" width=\"15%\">R</td></tr> \n",
      "\n",
      "<tr><td bgcolor=\"white\" class=\"detail\" width=\"40%\"><a class=\"notranslate\" href=\"/senate/Senator.asp?GA=98&amp;MemberID=2035\">Patricia Van Pelt</a></td><td align=\"center\" bgcolor=\"white\" class=\"detail\" width=\"15%\"><a href=\"SenatorBills.asp?GA=98&amp;MemberID=2035\">Bills</a></td><td align=\"center\" bgcolor=\"white\" class=\"detail\" width=\"15%\"><a href=\"SenCommittees.asp?GA=98&amp;MemberID=2035\">Committees</a></td><td align=\"center\" bgcolor=\"white\" class=\"detail\" width=\"15%\">5</td><td align=\"center\" bgcolor=\"white\" class=\"detail\" width=\"15%\">D</td></tr> \n",
      "\n",
      "<tr>\n",
      "<td align=\"left\" class=\"footer\" width=\"107\">  <img alt=\"Legislative Information System logo\" height=\"45\" src=\"/images/lislogo.jpg\" width=\"100\"/></td>\n",
      "<td align=\"\" class=\"footer\" valign=\"top\" width=\"100%\">This site is maintained for the Illinois General Assembly \n",
      "by the<br/>Legislative Information System, 705 Stratton Building, Springfield, Illinois 62706<br/>\n",
      "<a class=\"links\" href=\"mailto:webmaster@ilga.gov?subject=Email from ILGA Web\" style=\"font-size:8px\">\n",
      "      Contact ILGA Webmaster</a>\n",
      "</td>\n",
      "</tr>\n"
     ]
    }
   ],
   "source": [
    "good_rows = [row for row in rows if len(row) == 5]\n",
    "\n",
    "# Comprobemos algunas filas\n",
    "print(good_rows[0], '\\n')\n",
    "print(good_rows[-2], '\\n')\n",
    "print(good_rows[-1])"
   ]
  },
  {
   "cell_type": "markdown",
   "metadata": {},
   "source": [
    "Encontramos una fila footer en nuestra lista que nos gustaría evitar. Vamos a intentar otra cosa:"
   ]
  },
  {
   "cell_type": "code",
   "execution_count": 33,
   "metadata": {},
   "outputs": [
    {
     "data": {
      "text/plain": [
       "[<td bgcolor=\"white\" class=\"detail\" width=\"40%\"><a class=\"notranslate\" href=\"/senate/Senator.asp?GA=98&amp;MemberID=1911\">Pamela J. Althoff</a></td>,\n",
       " <td align=\"center\" bgcolor=\"white\" class=\"detail\" width=\"15%\"><a href=\"SenatorBills.asp?GA=98&amp;MemberID=1911\">Bills</a></td>,\n",
       " <td align=\"center\" bgcolor=\"white\" class=\"detail\" width=\"15%\"><a href=\"SenCommittees.asp?GA=98&amp;MemberID=1911\">Committees</a></td>,\n",
       " <td align=\"center\" bgcolor=\"white\" class=\"detail\" width=\"15%\">32</td>,\n",
       " <td align=\"center\" bgcolor=\"white\" class=\"detail\" width=\"15%\">R</td>]"
      ]
     },
     "execution_count": 33,
     "metadata": {},
     "output_type": "execute_result"
    }
   ],
   "source": [
    "rows[2].select('td.detail') "
   ]
  },
  {
   "cell_type": "code",
   "execution_count": null,
   "metadata": {},
   "outputs": [
    {
     "name": "stdout",
     "output_type": "stream",
     "text": [
      "[] \n",
      "\n",
      "[<td bgcolor=\"EBEBEB\" class=\"detail\" width=\"40%\"><a class=\"notranslate\" href=\"/senate/Senator.asp?GA=98&amp;MemberID=2022\">Jennifer Bertino-Tarrant</a></td>, <td align=\"center\" bgcolor=\"EBEBEB\" class=\"detail\" width=\"15%\"><a href=\"SenatorBills.asp?GA=98&amp;MemberID=2022\">Bills</a></td>, <td align=\"center\" bgcolor=\"EBEBEB\" class=\"detail\" width=\"15%\"><a href=\"SenCommittees.asp?GA=98&amp;MemberID=2022\">Committees</a></td>, <td align=\"center\" bgcolor=\"EBEBEB\" class=\"detail\" width=\"15%\">49</td>, <td align=\"center\" bgcolor=\"EBEBEB\" class=\"detail\" width=\"15%\">D</td>] \n",
      "\n",
      "Checking rows...\n",
      "\n",
      "<tr><td bgcolor=\"white\" class=\"detail\" width=\"40%\"><a class=\"notranslate\" href=\"/senate/Senator.asp?GA=98&amp;MemberID=1911\">Pamela J. Althoff</a></td><td align=\"center\" bgcolor=\"white\" class=\"detail\" width=\"15%\"><a href=\"SenatorBills.asp?GA=98&amp;MemberID=1911\">Bills</a></td><td align=\"center\" bgcolor=\"white\" class=\"detail\" width=\"15%\"><a href=\"SenCommittees.asp?GA=98&amp;MemberID=1911\">Committees</a></td><td align=\"center\" bgcolor=\"white\" class=\"detail\" width=\"15%\">32</td><td align=\"center\" bgcolor=\"white\" class=\"detail\" width=\"15%\">R</td></tr> \n",
      "\n",
      "<tr><td bgcolor=\"white\" class=\"detail\" width=\"40%\"><a class=\"notranslate\" href=\"/senate/Senator.asp?GA=98&amp;MemberID=2035\">Patricia Van Pelt</a></td><td align=\"center\" bgcolor=\"white\" class=\"detail\" width=\"15%\"><a href=\"SenatorBills.asp?GA=98&amp;MemberID=2035\">Bills</a></td><td align=\"center\" bgcolor=\"white\" class=\"detail\" width=\"15%\"><a href=\"SenCommittees.asp?GA=98&amp;MemberID=2035\">Committees</a></td><td align=\"center\" bgcolor=\"white\" class=\"detail\" width=\"15%\">5</td><td align=\"center\" bgcolor=\"white\" class=\"detail\" width=\"15%\">D</td></tr>\n"
     ]
    }
   ],
   "source": [
    "# Fila mala\n",
    "print(rows[-1].select('td.detail'), '\\n')\n",
    "\n",
    "# Fila buena\n",
    "print(rows[5].select('td.detail'), '\\n')\n",
    "\n",
    "# ¿Qué tal esto?\n",
    "good_rows = [row for row in rows if row.select('td.detail')]\n",
    "\n",
    "print(\"Checking rows...\\n\")\n",
    "print(good_rows[0], '\\n')\n",
    "print(good_rows[-1])"
   ]
  },
  {
   "cell_type": "markdown",
   "metadata": {},
   "source": [
    "Parece que encontramos algo que ha funcionado!"
   ]
  },
  {
   "cell_type": "markdown",
   "metadata": {},
   "source": [
    "## Consolidarlo todo\n",
    "\n",
    "Ahora que hemos visto como obtener los datos que queremos de una fila, así como también filtrar las filas que no queremos, vamos a consolidar todo en un bucle."
   ]
  },
  {
   "cell_type": "code",
   "execution_count": null,
   "metadata": {
    "tags": []
   },
   "outputs": [],
   "source": [
    "# Definir lista de almacenamiento\n",
    "members = []\n",
    "\n",
    "# Eliminar filas innecesarias\n",
    "valid_rows = [row for row in rows if row.select('td.detail')]\n",
    "\n",
    "# Iterar a través de todas las filas\n",
    "for row in valid_rows:\n",
    "    # Seleccionar solo aquellas etiquetas 'td' con clase 'detail'\n",
    "    detail_cells = row.select('td.detail')\n",
    "    # Mantener solo el texto en cada una de esas celdas\n",
    "    row_data = [cell.text for cell in detail_cells]\n",
    "    # Recopilar la información\n",
    "    name = row_data[0]\n",
    "    district = int(row_data[3])\n",
    "    party = row_data[4]\n",
    "    # Almacenar en una tupla\n",
    "    senator = (name, district, party)\n",
    "    # Agregar a la lista\n",
    "    members.append(senator)"
   ]
  },
  {
   "cell_type": "code",
   "execution_count": null,
   "metadata": {},
   "outputs": [
    {
     "data": {
      "text/plain": [
       "61"
      ]
     },
     "execution_count": 36,
     "metadata": {},
     "output_type": "execute_result"
    }
   ],
   "source": [
    "# Debe ser 61\n",
    "len(members)"
   ]
  },
  {
   "cell_type": "markdown",
   "metadata": {},
   "source": [
    "Vamos a ver que tenemos en `members`."
   ]
  },
  {
   "cell_type": "code",
   "execution_count": 37,
   "metadata": {},
   "outputs": [
    {
     "name": "stdout",
     "output_type": "stream",
     "text": [
      "[('Pamela J. Althoff', 32, 'R'), ('Jason A. Barickman', 53, 'R'), ('Scott M Bennett', 52, 'D'), ('Jennifer Bertino-Tarrant', 49, 'D'), ('Daniel Biss', 9, 'D')]\n"
     ]
    }
   ],
   "source": [
    "print(members[:5])"
   ]
  },
  {
   "cell_type": "markdown",
   "metadata": {},
   "source": [
    "## 🥊  Reto: Obtener elementos `href` que apunten a los proyectos de ley de los miembros  \n",
    "\n",
    "El código anterior recupera información sobre:  \n",
    "\n",
    "- el nombre del senador,  \n",
    "- su número de distrito,  \n",
    "- y su partido.  \n",
    "\n",
    "Ahora queremos obtener la URL de la lista de proyectos de ley de cada senador. Cada URL seguirá un formato específico.  \n",
    "\n",
    "El formato para la lista de proyectos de ley de un senador dado es:  \n",
    "\n",
    "`http://www.ilga.gov/senate/SenatorBills.asp?GA=98&MemberID=[MEMBER_ID]&Primary=True`  \n",
    "\n",
    "para obtener algo como:  \n",
    "\n",
    "`http://www.ilga.gov/senate/SenatorBills.asp?MemberID=1911&GA=98&Primary=True`  \n",
    "\n",
    "donde `MEMBER_ID=1911`.  \n",
    "\n",
    "Deberías notar que, desafortunadamente, `MEMBER_ID` no se está extrayendo actualmente en nuestro código de scraping.  \n",
    "\n",
    "Tu tarea inicial es modificar el código anterior para que también **recupere la URL completa que apunta a la página correspondiente de proyectos de ley patrocinados principalmente**, para cada miembro, y la devuelva junto con su nombre, distrito y partido.  \n",
    "\n",
    "### Consejos:  \n",
    "\n",
    "* Para hacer esto, querrás obtener el elemento de anclaje (`<a>`) apropiado en la fila de la tabla de cada legislador. Puedes usar nuevamente el método `.select()` en el objeto `row` dentro del bucle para hacer esto, de manera similar al comando que encuentra todas las celdas `td.detail` en la fila. Recuerda que solo queremos el enlace a los proyectos de ley del legislador, no los comités ni la página de perfil del legislador.  \n",
    "* Los elementos de anclaje en el HTML se verán como `<a href=\"/senate/Senator.asp/...\">Bills</a>`. La cadena en el atributo `href` contiene el **enlace relativo** que estamos buscando. Puedes acceder a un atributo de un objeto `Tag` de BeautifulSoup de la misma manera que accedes a un diccionario en Python: `anchor['attributeName']`. Consulta la <a href=\"http://www.crummy.com/software/BeautifulSoup/bs4/doc/#tag\">documentación</a> para más detalles.  \n",
    "* Hay _muchas_ formas diferentes de usar BeautifulSoup para hacer esto. Cualquier método que utilices para extraer el `href` está bien.  \n",
    "\n",
    "El código ha sido parcialmente completado para ti. Complétalo donde dice `#YOUR CODE HERE`. Guarda la ruta en un objeto llamado `full_path`.  \n"
   ]
  },
  {
   "cell_type": "code",
   "execution_count": null,
   "metadata": {
    "tags": []
   },
   "outputs": [],
   "source": [
    "#  Hacer una solicitud GET\n",
    "req = requests.get('http://www.ilga.gov/senate/default.asp?GA=98')\n",
    "# Leer el contenido de la respuesta del servidor\n",
    "src = req.text\n",
    "# Parsear el contenido\n",
    "soup = BeautifulSoup(src, \"lxml\")\n",
    "# Crear una lista vacía para almacenar nuestros datos\n",
    "members = []\n",
    "\n",
    "# Devuelve cada selector ‘tr tr tr’ CSS en la página\n",
    "rows = soup.select('tr tr tr')\n",
    "# Eliminar las filas innecesarias\n",
    "rows = [row for row in rows if row.select('td.detail')]\n",
    "\n",
    "# Iterar sobre todas las filas\n",
    "for row in rows:\n",
    "    # Seleccionar solo aquellas etiquetas 'td' con la clase 'detail'\n",
    "    detail_cells = row.select('td.detail') \n",
    "    # KMantener solo el texto en cada una de esas celdas\n",
    "    row_data = [cell.text for cell in detail_cells]\n",
    "    #  Recoger información\n",
    "    name = row_data[0]\n",
    "    district = int(row_data[3])\n",
    "    party = row_data[4]\n",
    "\n",
    "    # TU CÓDIGO AQUÍ\n",
    "    #full_path = ''\n",
    "    # Buscar el enlace a los proyectos de ley dentro de la fila\n",
    "    bill_anchor = row.select_one('td.detail a[href*=\"SenatorBills.asp\"]')\n",
    "    \n",
    "    # Extraer el 'href' si existe, y construir la URL completa\n",
    "    if bill_anchor:\n",
    "        relative_path = bill_anchor['href']\n",
    "        full_path = f\"http://www.ilga.gov{relative_path}\"\n",
    "    else:\n",
    "        full_path = ''\n",
    "\n",
    "    #  Almacenar en una tupla\n",
    "    senator = (name, district, party, full_path)\n",
    "    #  Añadir a la lista\n",
    "    members.append(senator)"
   ]
  },
  {
   "cell_type": "code",
   "execution_count": null,
   "metadata": {
    "tags": []
   },
   "outputs": [
    {
     "data": {
      "text/plain": [
       "[('Pamela J. Althoff',\n",
       "  32,\n",
       "  'R',\n",
       "  'http://www.ilga.govSenatorBills.asp?GA=98&MemberID=1911'),\n",
       " ('Jason A. Barickman',\n",
       "  53,\n",
       "  'R',\n",
       "  'http://www.ilga.govSenatorBills.asp?GA=98&MemberID=2018'),\n",
       " ('Scott M Bennett',\n",
       "  52,\n",
       "  'D',\n",
       "  'http://www.ilga.govSenatorBills.asp?GA=98&MemberID=2272'),\n",
       " ('Jennifer Bertino-Tarrant',\n",
       "  49,\n",
       "  'D',\n",
       "  'http://www.ilga.govSenatorBills.asp?GA=98&MemberID=2022'),\n",
       " ('Daniel Biss',\n",
       "  9,\n",
       "  'D',\n",
       "  'http://www.ilga.govSenatorBills.asp?GA=98&MemberID=2020')]"
      ]
     },
     "execution_count": 39,
     "metadata": {},
     "output_type": "execute_result"
    }
   ],
   "source": [
    "# Descomentar para probar \n",
    "members[:5]"
   ]
  },
  {
   "cell_type": "markdown",
   "metadata": {},
   "source": [
    "## 🥊  Reto: Modulariza tu código  \n",
    "\n",
    "Convierte el código anterior en una función que acepte una URL, extraiga los senadores de esa URL y devuelva una lista de tuplas que contengan información sobre cada senador.  "
   ]
  },
  {
   "cell_type": "code",
   "execution_count": null,
   "metadata": {
    "tags": []
   },
   "outputs": [],
   "source": [
    "# AQUI ESTA EL CODIGO\n",
    "def get_members(url):\n",
    "    # Hacer la solicitud GET\n",
    "    req = requests.get(url)\n",
    "    # Leer el contenido de la respuesta del servidor\n",
    "    src = req.text\n",
    "    # Analizar con BeautifulSoup\n",
    "    soup = BeautifulSoup(src, \"lxml\")\n",
    "\n",
    "    # Crear una lista vacía para almacenar los datos\n",
    "    members = []\n",
    "\n",
    "    # Obtener todas las filas 'tr tr tr' que contienen datos\n",
    "    rows = soup.select('tr tr tr')\n",
    "    # Filtrar las filas basura\n",
    "    rows = [row for row in rows if row.select('td.detail')]\n",
    "\n",
    "    # Iterar sobre cada fila\n",
    "    for row in rows:\n",
    "        # Seleccionar solo las celdas 'td' con clase 'detail'\n",
    "        detail_cells = row.select('td.detail')  \n",
    "        # Extraer el texto de cada celda\n",
    "        row_data = [cell.text.strip() for cell in detail_cells]\n",
    "\n",
    "        # Extraer información relevante\n",
    "        name = row_data[0]\n",
    "        district = int(row_data[3])\n",
    "        party = row_data[4]\n",
    "\n",
    "        # Buscar el enlace a los proyectos de ley dentro de la fila\n",
    "        bill_anchor = row.select_one('td.detail a[href*=\"SenatorBills.asp\"]')\n",
    "\n",
    "        # Extraer el 'href' si existe, y construir la URL completa\n",
    "        if bill_anchor:\n",
    "            relative_path = bill_anchor['href']\n",
    "            \n",
    "            # Verificar si la URL ya tiene el dominio base\n",
    "            if relative_path.startswith('http://www.ilga.gov'):\n",
    "                full_path = relative_path  # Si ya tiene la URL completa, usarla tal cual\n",
    "            elif relative_path.startswith('/'):\n",
    "                full_path = f\"http://www.ilga.gov{relative_path}\"  # Concatenar solo si es relativa\n",
    "            else:\n",
    "                # Si no tiene la barra inicial, corregirla\n",
    "                full_path = f\"http://www.ilga.gov/{relative_path}\"\n",
    "        else:\n",
    "            full_path = ''\n",
    "\n",
    "\n",
    "        # Almacenar en una tupla\n",
    "        senator = (name, district, party, full_path)\n",
    "        # Agregar a la lista\n",
    "        members.append(senator)\n",
    "\n",
    "    return members\n"
   ]
  },
  {
   "cell_type": "code",
   "execution_count": null,
   "metadata": {
    "tags": []
   },
   "outputs": [
    {
     "data": {
      "text/plain": [
       "61"
      ]
     },
     "execution_count": 81,
     "metadata": {},
     "output_type": "execute_result"
    }
   ],
   "source": [
    "# Prueba tu código\n",
    "url = 'http://www.ilga.gov/senate/default.asp?GA=98'\n",
    "senate_members = get_members(url)\n",
    "len(senate_members)"
   ]
  },
  {
   "cell_type": "markdown",
   "metadata": {},
   "source": [
    "## 🥊 Reto para llevar a casa: Escribir una función de scraping  \n",
    "\n",
    "Queremos extraer información de las páginas web correspondientes a los proyectos de ley patrocinados por cada legislador.  \n",
    "\n",
    "Escribe una función llamada `get_bills(url)` para analizar una URL de proyectos de ley dada. Esto implicará:  \n",
    "\n",
    "- hacer una solicitud a la URL usando la librería <a href=\"http://docs.python-requests.org/en/latest/\">`requests`</a>  \n",
    "- usar las funciones de la librería `BeautifulSoup` para encontrar todos los elementos `<td>` con la clase `billlist`  \n",
    "- devolver una _lista_ de tuplas, cada una con:  \n",
    "    - la descripción (2ª columna)  \n",
    "    - la cámara (S o H) (3ª columna)  \n",
    "    - la última acción (4ª columna)  \n",
    "    - la fecha de la última acción (5ª columna)  \n",
    "\n",
    "Esta función ha sido parcialmente completada. Complétala.  \n"
   ]
  },
  {
   "cell_type": "code",
   "execution_count": null,
   "metadata": {
    "tags": []
   },
   "outputs": [],
   "source": [
    "def get_bills(url):\n",
    "    src = requests.get(url).text\n",
    "    soup = BeautifulSoup(src)\n",
    "    rows = soup.select('tr')\n",
    "    bills = []\n",
    "    for row in rows:\n",
    "        # AQUI ESTA EL CODIGO\n",
    "        cells = row.select('td.billlist')\n",
    "\n",
    "        # Verificar que la fila tenga suficientes columnas\n",
    "        if len(cells) >= 5:\n",
    "            bill_id = cells[0].text.strip()  # ID del proyecto de ley\n",
    "            description = cells[1].text.strip()  # Descripción\n",
    "            chamber = cells[2].text.strip()  # Cámara (S o H)\n",
    "            last_action = cells[3].text.strip()  # Última acción\n",
    "            last_action_date = cells[4].text.strip()  # Fecha de la última acción\n",
    "            bill = (bill_id, description, chamber, last_action, last_action_date)\n",
    "            bills.append(bill)\n",
    "    return bills"
   ]
  },
  {
   "cell_type": "code",
   "execution_count": null,
   "metadata": {
    "tags": []
   },
   "outputs": [
    {
     "name": "stdout",
     "output_type": "stream",
     "text": [
      "Raw test_url: http://www.ilga.gov/SenatorBills.asp?GA=98&MemberID=1911\n",
      "Fixed test_url: http://www.ilga.gov/senate//SenatorBills.asp?GA=98&MemberID=1911\n"
     ]
    },
    {
     "data": {
      "text/plain": [
       "[('SB2', 'STATE GOVERNMENT-TECH', 'S', 'Session Sine Die', '1/13/2015'),\n",
       " ('SB2', 'STATE GOVERNMENT-TECH', 'S', 'Session Sine Die', '1/13/2015'),\n",
       " ('SB2', 'STATE GOVERNMENT-TECH', 'S', 'Session Sine Die', '1/13/2015'),\n",
       " ('SB9',\n",
       "  'PUBLIC UTIL-PERFORMANCE-BASED',\n",
       "  'S',\n",
       "  'Public Act . . . . . . . . . 98-0015',\n",
       "  '5/23/2013'),\n",
       " ('SB27', 'MEDICAID BUDGET NOTE ACT', 'S', 'Session Sine Die', '1/13/2015')]"
      ]
     },
     "execution_count": 83,
     "metadata": {},
     "output_type": "execute_result"
    }
   ],
   "source": [
    "# \"Descomenta para probar tu código\"\n",
    "test_url = senate_members[0][3]\n",
    "\n",
    "print(\"Raw test_url:\", test_url)\n",
    "\n",
    "# Verificar si test_url comienza con la base correcta\n",
    "base_url = \"http://www.ilga.gov\"\n",
    "if test_url.startswith(base_url):\n",
    "    # Si test_url comienza con la URL base, asegurarse de agregar la palabra 'senate/' entre la base y la ruta\n",
    "    test_url = test_url[:len(base_url)] + \"/senate/\" + test_url[len(base_url):]\n",
    "else:\n",
    "    # Si no empieza con \"http\", corregirla añadiendo la base URL correctamente\n",
    "    if not test_url.startswith('/'):\n",
    "        test_url = \"/\" + test_url  # Asegurarse de que comience con una barra '/'\n",
    "    \n",
    "    # Concatenar correctamente la URL\n",
    "    test_url = base_url + \"/senate/\" + test_url  # Concatenar la URL base con la parte relativa\n",
    "\n",
    "# Imprimir la URL corregida para verificar que esté bien\n",
    "print(\"Fixed test_url:\", test_url)  # Verifica que ahora sea válida\n",
    "\n",
    "get_bills(test_url)[0:5]"
   ]
  },
  {
   "cell_type": "markdown",
   "metadata": {},
   "source": [
    "### Raspado de Todos los Proyectos de Ley\n",
    "\n",
    "Finalmente, crea un diccionario `bills_dict` que asocie un número de distrito (la clave) con una lista de proyectos de ley (el valor) provenientes de ese distrito. Puedes hacerlo iterando sobre todos los miembros del senado en `members_dict` y llamando a `get_bills()` para cada una de sus URLs asociadas de proyectos de ley.\n",
    "\n",
    "**NOTA:** por favor, llama a la función `time.sleep(1)` en cada iteración del bucle, para no sobrecargar el sitio web del estado."
   ]
  },
  {
   "cell_type": "code",
   "execution_count": 91,
   "metadata": {
    "tags": []
   },
   "outputs": [],
   "source": [
    "bills_dict = {}\n",
    "\n",
    "# Iterar sobre todos los senadores en la lista 'members'\n",
    "for senator in members:\n",
    "    # Obtener el número de distrito del senador (índice 1 de la tupla)\n",
    "    district = senator[1]\n",
    "    \n",
    "    # Obtener la URL de los proyectos de ley de este senador (índice 3 de la tupla)\n",
    "    bills_url = senator[3]\n",
    "    \n",
    "    # Depuración: Verificar la URL original solo una vez\n",
    "    if not bills_url.startswith(\"http\"):\n",
    "        print(f\"Raw bills URL: {bills_url}\")\n",
    "    \n",
    "    # Corregir la URL si no tiene el formato correcto\n",
    "    if bills_url and not bills_url.startswith(\"http\"):\n",
    "        # Si la URL es relativa, agregar la base correcta\n",
    "        if bills_url.startswith(\"/\"):\n",
    "            bills_url = \"http://www.ilga.gov\" + bills_url\n",
    "        else:\n",
    "            # Si la URL no tiene '/', agregamos el dominio con una barra\n",
    "            bills_url = \"http://www.ilga.gov/\" + bills_url\n",
    "    \n",
    "    # Asegurarse de que la palabra \"senate\" esté en la URL antes de 'SenatorBills.asp'\n",
    "    if \"SenatorBills.asp\" in bills_url:\n",
    "        # Agregar 'senate' (minúsculas) a la URL justo antes de 'SenatorBills.asp'\n",
    "        bills_url = bills_url.replace(\"SenatorBills.asp\", \"senate/SenatorBills.asp\")\n",
    "    \n",
    "    # Corregir la URL para evitar concatenación incorrecta\n",
    "    if bills_url.startswith(\"http://www.ilga.gov\") and not bills_url.startswith(\"http://www.ilga.gov/\"):\n",
    "        # Si ya tiene el dominio, asegurarnos de que la URL contenga la barra '/'\n",
    "        bills_url = \"http://www.ilga.gov/\" + bills_url[len(\"http://www.ilga.gov\"):]\n",
    "    \n",
    "    # Depuración: Verificar la URL corregida solo una vez\n",
    "    #print(f\"Fixed bills URL: {bills_url}\")\n",
    "    \n",
    "    # Llamar a la función get_bills() para obtener los proyectos de ley\n",
    "    bills = get_bills(bills_url)\n",
    "    \n",
    "    # Agregar los proyectos de ley al diccionario bills_dict\n",
    "    if district not in bills_dict:\n",
    "        bills_dict[district] = []  # Si el distrito no está en el diccionario, agregarlo\n",
    "    \n",
    "    bills_dict[district].extend(bills)  # Agregar los proyectos de ley a la lista correspondiente al distrito\n",
    "    \n",
    "    # Pausar la ejecución para evitar sobrecargar el servidor\n",
    "    time.sleep(1)"
   ]
  },
  {
   "cell_type": "code",
   "execution_count": null,
   "metadata": {
    "tags": []
   },
   "outputs": [
    {
     "data": {
      "text/plain": [
       "[('SR1730',\n",
       "  'MEMORIAL - THOMAS G. HAYS',\n",
       "  'S',\n",
       "  'Resolution Adopted',\n",
       "  '1/13/2015'),\n",
       " ('SR1730',\n",
       "  'MEMORIAL - THOMAS G. HAYS',\n",
       "  'S',\n",
       "  'Resolution Adopted',\n",
       "  '1/13/2015'),\n",
       " ('SR1730',\n",
       "  'MEMORIAL - THOMAS G. HAYS',\n",
       "  'S',\n",
       "  'Resolution Adopted',\n",
       "  '1/13/2015'),\n",
       " ('SB10',\n",
       "  'CIVIL LAW-TECH',\n",
       "  'S',\n",
       "  'Public Act . . . . . . . . . 98-0597',\n",
       "  '11/20/2013'),\n",
       " ('SB10',\n",
       "  'CIVIL LAW-TECH',\n",
       "  'S',\n",
       "  'Public Act . . . . . . . . . 98-0597',\n",
       "  '11/20/2013'),\n",
       " ('SB10',\n",
       "  'CIVIL LAW-TECH',\n",
       "  'S',\n",
       "  'Public Act . . . . . . . . . 98-0597',\n",
       "  '11/20/2013'),\n",
       " ('SB16', 'EDUCATION-TECH', 'S', 'Session Sine Die', '1/13/2015'),\n",
       " ('SB30',\n",
       "  'THOMSON PRISON CESSION ACT',\n",
       "  'S',\n",
       "  'Public Act . . . . . . . . . 98-0070',\n",
       "  '7/15/2013'),\n",
       " ('SB34', 'HLTH BENEFITS EX-ADMIN', 'S', 'Session Sine Die', '1/13/2015'),\n",
       " ('SB46',\n",
       "  'UNIVERSITY OF ILLINOIS TRUSTEE',\n",
       "  'S',\n",
       "  'Session Sine Die',\n",
       "  '1/13/2015'),\n",
       " ('SB47',\n",
       "  'PUB AID-CAUSE OF ACTION-NOTICE',\n",
       "  'S',\n",
       "  'Public Act . . . . . . . . . 98-0073',\n",
       "  '7/15/2013'),\n",
       " ('SB52', 'USE/OCC TX-GASOHOL', 'S', 'Session Sine Die', '1/13/2015'),\n",
       " ('SB68', 'MINIMUM WAGE INCREASES', 'S', 'Session Sine Die', '1/13/2015'),\n",
       " ('SB103', 'UTILITES-RENEWABLE ENERGY', 'S', 'Session Sine Die', '1/13/2015'),\n",
       " ('SB105',\n",
       "  'PUB UTIL-MARKET SETTLEMENT SVC',\n",
       "  'S',\n",
       "  'Public Act . . . . . . . . . 98-0554',\n",
       "  '8/27/2013'),\n",
       " ('SB172',\n",
       "  'ELECTIONS-TECH',\n",
       "  'S',\n",
       "  'Public Act . . . . . . . . . 98-1171',\n",
       "  '1/12/2015'),\n",
       " ('SB214', 'STATE GOVERNMENT-TECH', 'S', 'Session Sine Die', '1/13/2015'),\n",
       " ('SB217',\n",
       "  'TRAINING EMPLOYMENT PGM ACT',\n",
       "  'S',\n",
       "  'Session Sine Die',\n",
       "  '1/13/2015'),\n",
       " ('SB226',\n",
       "  'DCEO-SUPPORT YOUR NEIGHBOR',\n",
       "  'S',\n",
       "  'Public Act . . . . . . . . . 98-1031',\n",
       "  '8/25/2014'),\n",
       " ('SB228', 'STATE GOVERNMENT-TECH', 'S', 'Session Sine Die', '1/13/2015'),\n",
       " ('SB229',\n",
       "  'GUBERNATORIAL BDS-DEMOGRAPHIC',\n",
       "  'S',\n",
       "  'Public Act . . . . . . . . . 98-1087',\n",
       "  '8/26/2014'),\n",
       " ('SB231',\n",
       "  'DISASTER RELIEF-IEMA-GRANTS',\n",
       "  'S',\n",
       "  'Session Sine Die',\n",
       "  '1/13/2015'),\n",
       " ('SB638', 'REGULATION-TECH', 'S', 'Session Sine Die', '1/13/2015'),\n",
       " ('SB640',\n",
       "  'ELECTRONIC FUND TRANS-SUPPORT',\n",
       "  'S',\n",
       "  'Public Act . . . . . . . . . 98-0984',\n",
       "  '8/15/2014'),\n",
       " ('SB740', 'PUBLIC AID-TECH', 'S', 'Session Sine Die', '1/13/2015'),\n",
       " ('SB1042',\n",
       "  'CIVIL LAW-TECH',\n",
       "  'S',\n",
       "  'Public Act . . . . . . . . . 98-0522',\n",
       "  '8/23/2013'),\n",
       " ('SB1147',\n",
       "  'ENTERPRISE ZONE-HIGH IMPACT',\n",
       "  'S',\n",
       "  'Session Sine Die',\n",
       "  '1/13/2015'),\n",
       " ('SB1193',\n",
       "  'SENIORS PHARMA ASSISTNC RELIEF',\n",
       "  'S',\n",
       "  'Session Sine Die',\n",
       "  '1/13/2015'),\n",
       " ('SB1221',\n",
       "  'SCH CD-STATE SEAL BILITERACY',\n",
       "  'S',\n",
       "  'Public Act . . . . . . . . . 98-0560',\n",
       "  '8/27/2013'),\n",
       " ('SB1251',\n",
       "  'IL DEVELOPMENT ENTERPRISE ZONE',\n",
       "  'S',\n",
       "  'Session Sine Die',\n",
       "  '1/13/2015'),\n",
       " ('SB1448',\n",
       "  'ENDOW ILLINOIS TAX CREDIT ACT',\n",
       "  'S',\n",
       "  'Session Sine Die',\n",
       "  '1/13/2015'),\n",
       " ('SB1621',\n",
       "  'BOARDS AND COMMISSIONS',\n",
       "  'S',\n",
       "  'Public Act . . . . . . . . . 98-0044',\n",
       "  '6/28/2013'),\n",
       " ('SB1626',\n",
       "  'PROVIDER COPAY EQUITY ACT-TECH',\n",
       "  'S',\n",
       "  'Session Sine Die',\n",
       "  '1/13/2015'),\n",
       " ('SB1664',\n",
       "  'PRIVATE DETECTIVES-SUNSET',\n",
       "  'S',\n",
       "  'Public Act . . . . . . . . . 98-0045',\n",
       "  '6/28/2013'),\n",
       " ('SB1715',\n",
       "  'WEIGHTS AND MEASURES',\n",
       "  'S',\n",
       "  'Public Act . . . . . . . . . 98-0022',\n",
       "  '6/17/2013'),\n",
       " ('SB1718',\n",
       "  'INS CD-DEPOSIT OF SECURITIES',\n",
       "  'S',\n",
       "  'Public Act . . . . . . . . . 98-0571',\n",
       "  '8/27/2013'),\n",
       " ('SB1763',\n",
       "  'COM COL-BALLOT MEASURE-LIMIT',\n",
       "  'S',\n",
       "  'Session Sine Die',\n",
       "  '1/13/2015'),\n",
       " ('SB1842',\n",
       "  \"VEH CD-MECHANIC'S LIEN-VEHICLE\",\n",
       "  'S',\n",
       "  'Public Act . . . . . . . . . 98-1161',\n",
       "  '1/9/2015'),\n",
       " ('SB1904',\n",
       "  'DEDICATED FUND IMPACT NOTE ACT',\n",
       "  'S',\n",
       "  'Session Sine Die',\n",
       "  '1/13/2015'),\n",
       " ('SB1905', 'DEDICATED FUND TRACKER', 'S', 'Session Sine Die', '1/13/2015'),\n",
       " ('SB1910',\n",
       "  'DCEO-CONVENTION AND TOURISM',\n",
       "  'S',\n",
       "  'Public Act . . . . . . . . . 98-0100',\n",
       "  '7/19/2013'),\n",
       " ('SB1918', 'CELL PHONE SURVEILLANCE', 'S', 'Session Sine Die', '1/13/2015'),\n",
       " ('SB2153',\n",
       "  'FOIA-COUNTY INMATE REQUESTS',\n",
       "  'S',\n",
       "  'Session Sine Die',\n",
       "  '1/13/2015'),\n",
       " ('SB2155',\n",
       "  'METRO WATER RECLAMATION TAXES',\n",
       "  'S',\n",
       "  'Public Act . . . . . . . . . 98-0023',\n",
       "  '6/17/2013'),\n",
       " ('SB2199',\n",
       "  'SCH CD-EDUCATOR TEST-CONTENT',\n",
       "  'S',\n",
       "  'Public Act . . . . . . . . . 98-0581',\n",
       "  '8/27/2013'),\n",
       " ('SB2204', 'ELECTIONS-TECH', 'S', 'Session Sine Die', '1/13/2015'),\n",
       " ('SB2205', 'ELECTIONS-TECH', 'S', 'Session Sine Die', '1/13/2015'),\n",
       " ('SB2207',\n",
       "  'INS CD-FIREMEN CONTINUANCE',\n",
       "  'S',\n",
       "  'Session Sine Die',\n",
       "  '1/13/2015'),\n",
       " ('SB2209',\n",
       "  'INC TX-ALTERNATE R&D CREDIT',\n",
       "  'S',\n",
       "  'Session Sine Die',\n",
       "  '1/13/2015'),\n",
       " ('SB2216',\n",
       "  '$ST UNIV CIVIL SERV SYSTEM',\n",
       "  'S',\n",
       "  'Session Sine Die',\n",
       "  '1/13/2015'),\n",
       " ('SB2218',\n",
       "  'OPTOMETRY-CONTACT LENSES',\n",
       "  'S',\n",
       "  'Public Act . . . . . . . . . 98-0186',\n",
       "  '8/5/2013'),\n",
       " ('SB2223', 'EDUCATION-TECH', 'S', 'Session Sine Die', '1/13/2015'),\n",
       " ('SB2225', '$NIU-TECH', 'S', 'Session Sine Die', '1/13/2015'),\n",
       " ('SB2227', 'EDUCATION-TECH', 'S', 'Session Sine Die', '1/13/2015'),\n",
       " ('SB2229',\n",
       "  'HIGHER ED-NATIONAL GUARD GRANT',\n",
       "  'S',\n",
       "  'Public Act . . . . . . . . . 98-0314',\n",
       "  '8/12/2013'),\n",
       " ('SB2234',\n",
       "  'VIDEO GAMING-VOUCHERS',\n",
       "  'S',\n",
       "  'Public Act . . . . . . . . . 98-0582',\n",
       "  '8/27/2013'),\n",
       " ('SB2236',\n",
       "  'VETERINARY PRACTICE OWNERSHIP',\n",
       "  'S',\n",
       "  'Session Sine Die',\n",
       "  '1/13/2015'),\n",
       " ('SB2238', '$UNIVERSITY OF ILLINOIS', 'S', 'Session Sine Die', '1/13/2015'),\n",
       " ('SB2371',\n",
       "  'VIDEO GAMING-DEFINITION',\n",
       "  'S',\n",
       "  'Public Act . . . . . . . . . 98-0587',\n",
       "  '8/27/2013'),\n",
       " ('SB2372', 'TAXPAYER TRANSPARENCY ACT', 'S', 'Session Sine Die', '1/13/2015'),\n",
       " ('SB2373',\n",
       "  'EMERGING TECHNOLOGY INVESTMENT',\n",
       "  'S',\n",
       "  'Session Sine Die',\n",
       "  '1/13/2015'),\n",
       " ('SB2404',\n",
       "  'PEN CD-REFORM STATE SYSTEMS',\n",
       "  'S',\n",
       "  'Session Sine Die',\n",
       "  '1/13/2015'),\n",
       " ('SB2576',\n",
       "  '$AGING-DHS-COMM CARE&HOME SRVC',\n",
       "  'S',\n",
       "  'Session Sine Die',\n",
       "  '1/13/2015'),\n",
       " ('SB2580',\n",
       "  '$AGING-COMM CARE-CAPITATD CARE',\n",
       "  'S',\n",
       "  'Session Sine Die',\n",
       "  '1/13/2015'),\n",
       " ('SB2581',\n",
       "  '$DHS-CHILD CARE-EMPLY&TRAINING',\n",
       "  'S',\n",
       "  'Session Sine Die',\n",
       "  '1/13/2015'),\n",
       " ('SB2582',\n",
       "  '$DHS-HOME SERVICES PROGRAM',\n",
       "  'S',\n",
       "  'Session Sine Die',\n",
       "  '1/13/2015'),\n",
       " ('SB2603', '$VARIOUS-PERSONAL SERV', 'S', 'Session Sine Die', '1/13/2015'),\n",
       " ('SB2604',\n",
       "  'DIRECT SERVICE PERSONNEL-WAGES',\n",
       "  'S',\n",
       "  'Session Sine Die',\n",
       "  '1/13/2015'),\n",
       " ('SB2640',\n",
       "  'DCEO-BORDER STATES',\n",
       "  'S',\n",
       "  'Public Act . . . . . . . . . 98-0756',\n",
       "  '7/16/2014'),\n",
       " ('SB2658', 'MOTOR FUEL TAX FUND USAGE', 'S', 'Session Sine Die', '1/13/2015'),\n",
       " ('SB2671',\n",
       "  'TIRE STORAGE PERMITS',\n",
       "  'S',\n",
       "  'Public Act . . . . . . . . . 98-0656',\n",
       "  '6/19/2014'),\n",
       " ('SB2672', 'USE/OCC TAXES-DIAPERS', 'S', 'Session Sine Die', '1/13/2015'),\n",
       " ('SB2690',\n",
       "  'IFA-FIRE TRUCK LOANS',\n",
       "  'S',\n",
       "  'Public Act . . . . . . . . . 98-0662',\n",
       "  '6/23/2014'),\n",
       " ('SB2717',\n",
       "  'SERIOUS TRAFFIC VIOLATION FEE',\n",
       "  'S',\n",
       "  'Session Sine Die',\n",
       "  '1/13/2015'),\n",
       " ('SB2729',\n",
       "  'HIGH SCHOOL EQUIVALENCY TEST',\n",
       "  'S',\n",
       "  'Session Sine Die',\n",
       "  '1/13/2015'),\n",
       " ('SB2757', 'PUBLIC AID-TECH', 'S', 'Session Sine Die', '1/13/2015'),\n",
       " ('SB2758',\n",
       "  'SECURE CHOICE SAVINGS PROGRAM',\n",
       "  'S',\n",
       "  'Public Act . . . . . . . . . 98-1150',\n",
       "  '1/5/2015'),\n",
       " ('SB2776',\n",
       "  'LLC-ARTICLES-REDUCE FILING FEE',\n",
       "  'S',\n",
       "  'Session Sine Die',\n",
       "  '1/13/2015'),\n",
       " ('SB2780',\n",
       "  'WATER POLLUTION CONTROL LOANS',\n",
       "  'S',\n",
       "  'Public Act . . . . . . . . . 98-0782',\n",
       "  '7/23/2014'),\n",
       " ('SB2804',\n",
       "  'GOODS SOLD IN THE STATE MUSEUM',\n",
       "  'S',\n",
       "  'Session Sine Die',\n",
       "  '1/13/2015'),\n",
       " ('SB2805',\n",
       "  'ELEC CD-EXTEND GRACE PERIOD',\n",
       "  'S',\n",
       "  'Session Sine Die',\n",
       "  '1/13/2015'),\n",
       " ('SB2865',\n",
       "  'INC TX-EARNED INCOME CREDIT',\n",
       "  'S',\n",
       "  'Session Sine Die',\n",
       "  '1/13/2015'),\n",
       " ('SB2946', 'GOVERNMENT-TECH', 'S', 'Session Sine Die', '1/13/2015'),\n",
       " ('SB2966',\n",
       "  'URBAN FLOODING AWARENESS ACT',\n",
       "  'S',\n",
       "  'Public Act . . . . . . . . . 98-0858',\n",
       "  '8/4/2014'),\n",
       " ('SB3031', 'EMPLOYMENT-TECH', 'S', 'Session Sine Die', '1/13/2015'),\n",
       " ('SB3032', 'EMPLOYMENT-TECH', 'S', 'Session Sine Die', '1/13/2015'),\n",
       " ('SB3033',\n",
       "  'SCH CD-TECH ED INCENTIVE GRANT',\n",
       "  'S',\n",
       "  'Session Sine Die',\n",
       "  '1/13/2015'),\n",
       " ('SB3034', 'CRIM CD-EAVESDROPPING', 'S', 'Session Sine Die', '1/13/2015'),\n",
       " ('SB3050',\n",
       "  'VETERINARIANS-INVESTIGATIONS',\n",
       "  'S',\n",
       "  'Session Sine Die',\n",
       "  '1/13/2015'),\n",
       " ('SB3109',\n",
       "  'OPTOMETRISTS-HYDROCODONE',\n",
       "  'S',\n",
       "  'Public Act . . . . . . . . . 98-1111',\n",
       "  '8/26/2014'),\n",
       " ('SB3180', 'GOV BDS-DEMOGRAPHIC INFO', 'S', 'Session Sine Die', '1/13/2015'),\n",
       " ('SB3259',\n",
       "  'PROP TX-COMMERCIAL PROPERTY',\n",
       "  'S',\n",
       "  'Public Act . . . . . . . . . 98-0702',\n",
       "  '7/7/2014'),\n",
       " ('SB3260', 'INC TX-STUDENT LOANS', 'S', 'Session Sine Die', '1/13/2015'),\n",
       " ('SB3261', '$UNIVERSITY OF ILLINOIS', 'S', 'Session Sine Die', '1/13/2015'),\n",
       " ('SB3285',\n",
       "  'VEH-CD SECURITY SURCHARGE',\n",
       "  'S',\n",
       "  'Tabled By Sponsor Sen. Michael W. Frerichs',\n",
       "  '3/21/2014'),\n",
       " ('SB3313',\n",
       "  '9-1-1 DIALING',\n",
       "  'S',\n",
       "  'Public Act . . . . . . . . . 98-0875',\n",
       "  '8/11/2014'),\n",
       " ('SB3380',\n",
       "  'FARMERS MKT LOCAL REG LIMITS',\n",
       "  'S',\n",
       "  'Session Sine Die',\n",
       "  '1/13/2015'),\n",
       " ('SB3424',\n",
       "  'OIL & GAS-PERMIT MORATORIUM',\n",
       "  'S',\n",
       "  'Session Sine Die',\n",
       "  '1/13/2015'),\n",
       " ('SB3438',\n",
       "  'CO-OPERATIVE ACT SHARE LIMIT',\n",
       "  'S',\n",
       "  'Public Act . . . . . . . . . 98-1122',\n",
       "  '8/26/2014'),\n",
       " ('SB3451',\n",
       "  'HIGHER ED-PAY FORWARD PAY BACK',\n",
       "  'S',\n",
       "  'Session Sine Die',\n",
       "  '1/13/2015'),\n",
       " ('SB3452',\n",
       "  'HIGHER ED-PAY FORWARD PAY BACK',\n",
       "  'S',\n",
       "  'Session Sine Die',\n",
       "  '1/13/2015'),\n",
       " ('SB3453', 'EDUCATION-TECH', 'S', 'Session Sine Die', '1/13/2015'),\n",
       " ('SB3553',\n",
       "  'HIGHER ED-PARTICIPATION CERT',\n",
       "  'S',\n",
       "  'Session Sine Die',\n",
       "  '1/13/2015'),\n",
       " ('SR70',\n",
       "  'TURKEY-HONOR RELIGIOUS RIGHTS',\n",
       "  'S',\n",
       "  'Resolution Adopted as Amended',\n",
       "  '5/31/2013'),\n",
       " ('SR74', 'MEMORIAL - LORENE FRERICHS', 'S', 'Resolution Adopted', '2/7/2013'),\n",
       " ('SR83', 'EAB MANAGEMENT PLANS', 'S', 'Resolution Adopted', '4/11/2013'),\n",
       " ('SR95', 'MEMORIAL HERSHALL E LEE', 'S', 'Resolution Adopted', '3/1/2013'),\n",
       " ('SR98',\n",
       "  'URGE EPA-DENY SS BADGER PERMIT',\n",
       "  'S',\n",
       "  'Resolution Adopted',\n",
       "  '4/11/2013'),\n",
       " ('SR207',\n",
       "  'MEMORIAL - CHRISTOPHER KANIS',\n",
       "  'S',\n",
       "  'Resolution Adopted',\n",
       "  '4/12/2013'),\n",
       " ('SR208',\n",
       "  'MEMORIAL - RENEE SCHOONOVER',\n",
       "  'S',\n",
       "  'Resolution Adopted',\n",
       "  '4/12/2013'),\n",
       " ('SR209',\n",
       "  'MEMORIAL ERMA BRIDGEWATER',\n",
       "  'S',\n",
       "  'Resolution Adopted',\n",
       "  '4/12/2013'),\n",
       " ('SR210', 'MEMORIAL - ROBERT DODD', 'S', 'Resolution Adopted', '4/12/2013'),\n",
       " ('SR218',\n",
       "  'AUTISM AWARENESS DAY',\n",
       "  'S',\n",
       "  'Resolution Adopted as Amended',\n",
       "  '4/25/2013'),\n",
       " ('SR233', 'MEMORIAL ROGER EBERT', 'S', 'Resolution Adopted', '4/18/2013'),\n",
       " ('SR247',\n",
       "  'MEMORIAL - EDWARD LAYDEN SR.',\n",
       "  'S',\n",
       "  'Resolution Adopted',\n",
       "  '4/25/2013'),\n",
       " ('SR248', 'MEMORIAL - LYLE SHIELDS', 'S', 'Resolution Adopted', '4/25/2013'),\n",
       " ('SR257',\n",
       "  'URGE CONGRESS - 2013 FARM BILL',\n",
       "  'S',\n",
       "  'Resolution Adopted',\n",
       "  '5/30/2013'),\n",
       " ('SR338',\n",
       "  'SENATE ADVISORY COM-HEALTHCARE',\n",
       "  'S',\n",
       "  'Resolution Adopted; 054-000-001',\n",
       "  '5/30/2013'),\n",
       " ('SR640',\n",
       "  'STUDENT LOANS-PROTECTIONS',\n",
       "  'S',\n",
       "  'Resolution Adopted',\n",
       "  '10/23/2013'),\n",
       " ('SR656',\n",
       "  'MEMORIAL - ERVIN R. PAPE III',\n",
       "  'S',\n",
       "  'Resolution Adopted',\n",
       "  '10/23/2013'),\n",
       " ('SR657', 'MEMORIAL - LARRY MILLS', 'S', 'Resolution Adopted', '10/23/2013'),\n",
       " ('SR670',\n",
       "  'MEMORIAL - C. TODD TAYLOR',\n",
       "  'S',\n",
       "  'Resolution Adopted',\n",
       "  '11/7/2013'),\n",
       " ('SR689', 'MEMORIAL - JOHN MEYER', 'S', 'Resolution Adopted', '11/7/2013'),\n",
       " ('SR743',\n",
       "  'MEMORIAL - GARRET JAKOBSSON',\n",
       "  'S',\n",
       "  'Resolution Adopted',\n",
       "  '12/3/2013'),\n",
       " ('SR744', 'MEMORIAL - CARROLL DUKES', 'S', 'Resolution Adopted', '12/3/2013'),\n",
       " ('SR764', 'MEMORIAL - IRMA WAIT', 'S', 'Resolution Adopted', '1/29/2014'),\n",
       " ('SR822', 'MEMORIAL - HAROLD SONGER', 'S', 'Resolution Adopted', '1/29/2014'),\n",
       " ('SR893', 'GAMMA DAY', 'S', 'Resolution Adopted', '2/5/2014'),\n",
       " ('SR895',\n",
       "  'MEMORIAL - TRACEY D. WILLIAMS',\n",
       "  'S',\n",
       "  'Resolution Adopted',\n",
       "  '2/5/2014'),\n",
       " ('SR896',\n",
       "  'MEMORIAL - DAVID C. FOSTER',\n",
       "  'S',\n",
       "  'Resolution Adopted',\n",
       "  '2/5/2014'),\n",
       " ('SR913', 'MEMORIAL - DON DUNAVAN', 'S', 'Resolution Adopted', '2/20/2014'),\n",
       " ('SR1115', 'CHILD FOOD SERVICES', 'S', 'Resolution Adopted', '5/30/2014'),\n",
       " ('SR1123',\n",
       "  'MEMORIAL - ANNAPURNA ANTISDEL',\n",
       "  'S',\n",
       "  'Resolution Adopted',\n",
       "  '5/1/2014'),\n",
       " ('SR1292',\n",
       "  'MEMORIAL - GILL M. GARMAN',\n",
       "  'S',\n",
       "  'Resolution Adopted',\n",
       "  '11/20/2014'),\n",
       " ('SR1478',\n",
       "  'MEMORIAL - CAROLYN J. SAMARAS',\n",
       "  'S',\n",
       "  'Resolution Adopted',\n",
       "  '11/20/2014'),\n",
       " ('SR1479',\n",
       "  'MEMORIAL - KURT P. FROEHLICH',\n",
       "  'S',\n",
       "  'Resolution Adopted',\n",
       "  '11/20/2014'),\n",
       " ('SR1480',\n",
       "  'MEMORIAL - DONALD PEARSON, SR.',\n",
       "  'S',\n",
       "  'Resolution Adopted',\n",
       "  '11/20/2014'),\n",
       " ('SR1481',\n",
       "  'MEMORIAL - RAYMOND E. SUGGS',\n",
       "  'S',\n",
       "  'Resolution Adopted',\n",
       "  '11/20/2014'),\n",
       " ('SR1547',\n",
       "  'MEMORIAL - WAYNE MCCLAIN',\n",
       "  'S',\n",
       "  'Resolution Adopted',\n",
       "  '11/20/2014'),\n",
       " ('SR1632',\n",
       "  'MEMORIAL - WILLIAM BOUNDS, JR.',\n",
       "  'S',\n",
       "  'Resolution Adopted',\n",
       "  '11/20/2014'),\n",
       " ('SR1633',\n",
       "  'MEMORIAL - KEVIN C. GANN',\n",
       "  'S',\n",
       "  'Resolution Adopted',\n",
       "  '11/20/2014'),\n",
       " ('SR1634',\n",
       "  'MEMORIAL - WAYNE MCCLAIN',\n",
       "  'S',\n",
       "  'Resolution Adopted',\n",
       "  '11/20/2014'),\n",
       " ('SJR29',\n",
       "  'UNIVERSITY FACULTY TASK FORCE',\n",
       "  'S',\n",
       "  'Session Sine Die',\n",
       "  '1/13/2015'),\n",
       " ('SJR49', 'HIGHER ED PLA TASK FORCE', 'S', 'Session Sine Die', '1/13/2015'),\n",
       " ('SJR50',\n",
       "  'URGE CONGRESS-SAFE FREIGHT ACT',\n",
       "  'S',\n",
       "  'Adopted Both Houses',\n",
       "  '4/10/2014'),\n",
       " ('SJR70',\n",
       "  'FIRE PREVENTION/EDUCATION TF',\n",
       "  'S',\n",
       "  'Session Sine Die',\n",
       "  '1/13/2015'),\n",
       " ('SJRCA17',\n",
       "  'CONAMEND-GRADUATED INC TAX',\n",
       "  'S',\n",
       "  'Session Sine Die',\n",
       "  '1/13/2015'),\n",
       " ('SJRCA40',\n",
       "  'CONAMEND-INCOME TAX RATES',\n",
       "  'S',\n",
       "  'Session Sine Die',\n",
       "  '1/13/2015'),\n",
       " ('SJRCA75',\n",
       "  'US CONST EQUAL RIGHTS AMEND',\n",
       "  'S',\n",
       "  'Session Sine Die',\n",
       "  '1/13/2015'),\n",
       " ('HB105',\n",
       "  'COLLEGE VOTER REGISTRATION',\n",
       "  'H',\n",
       "  'Public Act . . . . . . . . . 98-0691',\n",
       "  '7/1/2014'),\n",
       " ('HB1052',\n",
       "  'NURSE-COLLABORATION-PRESCRIBE',\n",
       "  'H',\n",
       "  'Public Act . . . . . . . . . 98-0192',\n",
       "  '8/6/2013'),\n",
       " ('HB1209',\n",
       "  'U OF I PRAIRIE RESEARCH INST',\n",
       "  'H',\n",
       "  'Public Act . . . . . . . . . 98-0346',\n",
       "  '8/14/2013'),\n",
       " ('HB1351',\n",
       "  'PEN CD-IMRF-RETURN TO SERVICE',\n",
       "  'H',\n",
       "  'Public Act . . . . . . . . . 98-0389',\n",
       "  '8/16/2013'),\n",
       " ('HB1571',\n",
       "  'INS CD-INSURER INVESTMENTS',\n",
       "  'H',\n",
       "  'Public Act . . . . . . . . . 98-0110',\n",
       "  '7/26/2013'),\n",
       " ('HB2370',\n",
       "  'COM COL-BALLOT MEASURE-LIMIT',\n",
       "  'H',\n",
       "  'Session Sine Die',\n",
       "  '12/3/2014'),\n",
       " ('HB2427',\n",
       "  'NATURAL GAS COMPETITION PLAN',\n",
       "  'H',\n",
       "  'Public Act . . . . . . . . . 98-0672',\n",
       "  '6/30/2014'),\n",
       " ('HB2513',\n",
       "  'SCH CD-REQUIRE STORM SHELTER',\n",
       "  'H',\n",
       "  'Public Act . . . . . . . . . 98-0883',\n",
       "  '8/15/2014'),\n",
       " ('HB2780',\n",
       "  'RECYCLABLE METAL TASK FORCE',\n",
       "  'H',\n",
       "  'Session Sine Die',\n",
       "  '12/3/2014'),\n",
       " ('HB3186',\n",
       "  'EMS SYSTM-EMT-MILITARY EXPERNC',\n",
       "  'H',\n",
       "  'Public Act . . . . . . . . . 98-0053',\n",
       "  '7/8/2013'),\n",
       " ('HB3223',\n",
       "  'PREVAIL WAGE RECORDS IDOL',\n",
       "  'H',\n",
       "  'Public Act . . . . . . . . . 98-0482',\n",
       "  '8/16/2013'),\n",
       " ('HB3227', 'INS CD-FIN REG FUND', 'H', 'Session Sine Die', '12/3/2014'),\n",
       " ('HB3383',\n",
       "  'HIGHER ED-NATIONAL GUARD GRANT',\n",
       "  'H',\n",
       "  'Session Sine Die',\n",
       "  '12/3/2014'),\n",
       " ('HB3861', 'FINANCE-TECH', 'H', 'Session Sine Die', '12/3/2014'),\n",
       " ('HB4284',\n",
       "  'U OF I-STUDENT TRUSTEE-RESIDNT',\n",
       "  'H',\n",
       "  'Public Act . . . . . . . . . 98-0778',\n",
       "  '7/21/2014'),\n",
       " ('HB4336',\n",
       "  'HIGH SCHOOL EQUIVALENCY TEST',\n",
       "  'H',\n",
       "  'Public Act . . . . . . . . . 98-0718',\n",
       "  '7/16/2014'),\n",
       " ('HB4340',\n",
       "  'IL COM COL BD-EXEC DIRECTOR',\n",
       "  'H',\n",
       "  'Public Act . . . . . . . . . 98-0719',\n",
       "  '7/16/2014'),\n",
       " ('HB4535',\n",
       "  'REGULATION-TECH',\n",
       "  'H',\n",
       "  'Public Act . . . . . . . . . 98-0993',\n",
       "  '8/18/2014'),\n",
       " ('HB4590',\n",
       "  'ILLINOIS GIVES INITIATIVE',\n",
       "  'H',\n",
       "  'Public Act . . . . . . . . . 98-0700',\n",
       "  '7/7/2014'),\n",
       " ('HB5323',\n",
       "  'HIGHER ED-PAY IT FORWARD',\n",
       "  'H',\n",
       "  'Public Act . . . . . . . . . 98-0920',\n",
       "  '8/15/2014'),\n",
       " ('HB5592',\n",
       "  'PENCD-IMRF-REVERSIONARY ANNTY',\n",
       "  'H',\n",
       "  'Public Act . . . . . . . . . 98-1078',\n",
       "  '8/26/2014'),\n",
       " ('HB5598',\n",
       "  'DCFS-VOLUNTARY PLACEMENT',\n",
       "  'H',\n",
       "  'Public Act . . . . . . . . . 98-0808',\n",
       "  '8/1/2014'),\n",
       " ('HB5657',\n",
       "  'FARMERS MKT LOCAL REG LIMITS',\n",
       "  'H',\n",
       "  'Public Act . . . . . . . . . 98-0660',\n",
       "  '6/23/2014'),\n",
       " ('HB5696',\n",
       "  'PENS CD-IMRF-OMITTED SERVICE',\n",
       "  'H',\n",
       "  'Public Act . . . . . . . . . 98-0932',\n",
       "  '8/15/2014'),\n",
       " ('HB5716',\n",
       "  'SCH EMERGENCY PLAN-ELECTRONIC',\n",
       "  'H',\n",
       "  'Public Act . . . . . . . . . 98-0661',\n",
       "  '6/23/2014'),\n",
       " ('HB5755',\n",
       "  'SCHOOLS AS POLLING PLACES',\n",
       "  'H',\n",
       "  'Public Act . . . . . . . . . 98-0696',\n",
       "  '7/7/2014'),\n",
       " ('HJR3',\n",
       "  'IL KOREAN WAR MED OF HON  HGWY',\n",
       "  'H',\n",
       "  'Adopted Both Houses',\n",
       "  '5/30/2013'),\n",
       " ('HJR27',\n",
       "  'TEACHER RECRUITING TASK FORCE',\n",
       "  'H',\n",
       "  'Adopted Both Houses',\n",
       "  '5/30/2013')]"
      ]
     },
     "execution_count": 92,
     "metadata": {},
     "output_type": "execute_result"
    }
   ],
   "source": [
    "# Descomenta para probar tu código\n",
    "bills_dict[52]"
   ]
  }
 ],
 "metadata": {
  "anaconda-cloud": {},
  "kernelspec": {
   "display_name": ".venv",
   "language": "python",
   "name": "python3"
  },
  "language_info": {
   "codemirror_mode": {
    "name": "ipython",
    "version": 3
   },
   "file_extension": ".py",
   "mimetype": "text/x-python",
   "name": "python",
   "nbconvert_exporter": "python",
   "pygments_lexer": "ipython3",
   "version": "3.12.1"
  }
 },
 "nbformat": 4,
 "nbformat_minor": 4
}
